{
 "cells": [
  {
   "cell_type": "markdown",
   "id": "5bb88ca6-9897-4114-baf3-d61900dbd591",
   "metadata": {},
   "source": [
    "# Introduction\n",
    "\n",
    "This workout comes from [2023 Week 16 | Power BI: Measure Format Strings and Conditionally Formatted Titles](https://workout-wednesday.com/pbi-2023-w16/), the main focus of which is a dashboard allowing the user to choose the number of top products to be included in the report and the metric to be used in the report visuals. "
   ]
  },
  {
   "cell_type": "code",
   "execution_count": 3,
   "id": "3c396e46-9ac9-4ee6-a25a-1b119a8fcffd",
   "metadata": {
    "tags": []
   },
   "outputs": [],
   "source": [
    "import pandas as pd"
   ]
  },
  {
   "cell_type": "code",
   "execution_count": 4,
   "id": "0cdb7cd2-024e-49e9-9d8b-9a6c46cd27d2",
   "metadata": {
    "tags": []
   },
   "outputs": [
    {
     "data": {
      "text/plain": [
       "dict_keys(['state', 'executive', 'industry', 'customer', 'product', 'scenario', 'date', 'bu', 'factsales'])"
      ]
     },
     "execution_count": 4,
     "metadata": {},
     "output_type": "execute_result"
    }
   ],
   "source": [
    "file_path = '../data/Dataset-Customer Profitability.xlsx'\n",
    "data = pd.read_excel(file_path, sheet_name=None)\n",
    "data.keys()"
   ]
  },
  {
   "cell_type": "code",
   "execution_count": 5,
   "id": "7d0c5f0b-9a88-4033-9e40-04a4ae2ca185",
   "metadata": {
    "tags": []
   },
   "outputs": [],
   "source": [
    "def get_data(file_path):\n",
    "    data = pd.read_excel(file_path, sheet_name=None)\n",
    "    customers = data['customer'].merge(\n",
    "        data['industry'], left_on='Industry ID', right_on='ID', how='left').merge(\n",
    "        data['state'], left_on='State', right_on='StateCode', how='left')\n",
    "    data_customer = data['factsales'].sort_values(by='YearPeriod').reset_index(drop=True).merge(\n",
    "        data['product'], on='Product Key', how='left').merge(\n",
    "        customers, left_on='Customer Key', right_on='Customer', how='left').merge(\n",
    "        data['date'], on='YearPeriod', how='left')\n",
    "    data_customer['COGS'] = data_customer.iloc[:,range(6, 12)].sum(axis=1)\n",
    "    data_customer['Gross Margin'] = data_customer['Revenue'] - data_customer['COGS']\n",
    "    data_selected = data_customer.loc[:, ['YearPeriod', 'Customer Key', 'Industry', 'Product', 'State_y', 'COGS', 'Gross Margin', 'Year', 'Qtr', 'Month']]\n",
    "    data_selected['Product'] = data_selected['Product'].fillna('(Blank)')\n",
    "    data_selected['Industry'] = data_selected['Industry'].fillna('(Blank)')\n",
    "    data_selected['Month'] = pd.Categorical(data_selected['Month'].values, \n",
    "                                        categories=['Jan', 'Feb', 'Mar', 'Apr', \n",
    "                                                    'May', 'Jun', 'Jul', 'Aug',\n",
    "                                                    'Sep', 'Oct', 'Nov', 'Dec'],\n",
    "                                        ordered=True)\n",
    "    return data_selected.astype({'Year': 'str'})"
   ]
  },
  {
   "cell_type": "code",
   "execution_count": 6,
   "id": "c0ae5b0d-a6e1-4ff1-8c13-f308a9256dc5",
   "metadata": {
    "tags": []
   },
   "outputs": [],
   "source": [
    "top_num = 3\n",
    "metrics = '# of Customers'"
   ]
  },
  {
   "cell_type": "code",
   "execution_count": 7,
   "id": "8dbbf468-6e56-4b99-9d44-f85235181e84",
   "metadata": {
    "tags": []
   },
   "outputs": [
    {
     "data": {
      "text/html": [
       "<style>\n",
       "        .bk-notebook-logo {\n",
       "            display: block;\n",
       "            width: 20px;\n",
       "            height: 20px;\n",
       "            background-image: url(data:image/png;base64,iVBORw0KGgoAAAANSUhEUgAAABQAAAAUCAYAAACNiR0NAAAABHNCSVQICAgIfAhkiAAAAAlwSFlzAAALEgAACxIB0t1+/AAAABx0RVh0U29mdHdhcmUAQWRvYmUgRmlyZXdvcmtzIENTNui8sowAAAOkSURBVDiNjZRtaJVlGMd/1/08zzln5zjP1LWcU9N0NkN8m2CYjpgQYQXqSs0I84OLIC0hkEKoPtiH3gmKoiJDU7QpLgoLjLIQCpEsNJ1vqUOdO7ppbuec5+V+rj4ctwzd8IIbbi6u+8f1539dt3A78eXC7QizUF7gyV1fD1Yqg4JWz84yffhm0qkFqBogB9rM8tZdtwVsPUhWhGcFJngGeWrPzHm5oaMmkfEg1usvLFyc8jLRqDOMru7AyC8saQr7GG7f5fvDeH7Ej8CM66nIF+8yngt6HWaKh7k49Soy9nXurCi1o3qUbS3zWfrYeQDTB/Qj6kX6Ybhw4B+bOYoLKCC9H3Nu/leUTZ1JdRWkkn2ldcCamzrcf47KKXdAJllSlxAOkRgyHsGC/zRday5Qld9DyoM4/q/rUoy/CXh3jzOu3bHUVZeU+DEn8FInkPBFlu3+nW3Nw0mk6vCDiWg8CeJaxEwuHS3+z5RgY+YBR6V1Z1nxSOfoaPa4LASWxxdNp+VWTk7+4vzaou8v8PN+xo+KY2xsw6une2frhw05CTYOmQvsEhjhWjn0bmXPjpE1+kplmmkP3suftwTubK9Vq22qKmrBhpY4jvd5afdRA3wGjFAgcnTK2s4hY0/GPNIb0nErGMCRxWOOX64Z8RAC4oCXdklmEvcL8o0BfkNK4lUg9HTl+oPlQxdNo3Mg4Nv175e/1LDGzZen30MEjRUtmXSfiTVu1kK8W4txyV6BMKlbgk3lMwYCiusNy9fVfvvwMxv8Ynl6vxoByANLTWplvuj/nF9m2+PDtt1eiHPBr1oIfhCChQMBw6Aw0UulqTKZdfVvfG7VcfIqLG9bcldL/+pdWTLxLUy8Qq38heUIjh4XlzZxzQm19lLFlr8vdQ97rjZVOLf8nclzckbcD4wxXMidpX30sFd37Fv/GtwwhzhxGVAprjbg0gCAEeIgwCZyTV2Z1REEW8O4py0wsjeloKoMr6iCY6dP92H6Vw/oTyICIthibxjm/DfN9lVz8IqtqKYLUXfoKVMVQVVJOElGjrnnUt9T9wbgp8AyYKaGlqingHZU/uG2NTZSVqwHQTWkx9hxjkpWDaCg6Ckj5qebgBVbT3V3NNXMSiWSDdGV3hrtzla7J+duwPOToIg42ChPQOQjspnSlp1V+Gjdged7+8UN5CRAV7a5EdFNwCjEaBR27b3W890TE7g24NAP/mMDXRWrGoFPQI9ls/MWO2dWFAar/xcOIImbbpA3zgAAAABJRU5ErkJggg==);\n",
       "        }\n",
       "    </style>\n",
       "    <div>\n",
       "        <a href=\"https://bokeh.org\" target=\"_blank\" class=\"bk-notebook-logo\"></a>\n",
       "        <span id=\"p1096\">Loading BokehJS ...</span>\n",
       "    </div>\n"
      ]
     },
     "metadata": {},
     "output_type": "display_data"
    },
    {
     "data": {
      "application/javascript": [
       "(function(root) {\n",
       "  function now() {\n",
       "    return new Date();\n",
       "  }\n",
       "\n",
       "  const force = true;\n",
       "\n",
       "  if (typeof root._bokeh_onload_callbacks === \"undefined\" || force === true) {\n",
       "    root._bokeh_onload_callbacks = [];\n",
       "    root._bokeh_is_loading = undefined;\n",
       "  }\n",
       "\n",
       "const JS_MIME_TYPE = 'application/javascript';\n",
       "  const HTML_MIME_TYPE = 'text/html';\n",
       "  const EXEC_MIME_TYPE = 'application/vnd.bokehjs_exec.v0+json';\n",
       "  const CLASS_NAME = 'output_bokeh rendered_html';\n",
       "\n",
       "  /**\n",
       "   * Render data to the DOM node\n",
       "   */\n",
       "  function render(props, node) {\n",
       "    const script = document.createElement(\"script\");\n",
       "    node.appendChild(script);\n",
       "  }\n",
       "\n",
       "  /**\n",
       "   * Handle when an output is cleared or removed\n",
       "   */\n",
       "  function handleClearOutput(event, handle) {\n",
       "    const cell = handle.cell;\n",
       "\n",
       "    const id = cell.output_area._bokeh_element_id;\n",
       "    const server_id = cell.output_area._bokeh_server_id;\n",
       "    // Clean up Bokeh references\n",
       "    if (id != null && id in Bokeh.index) {\n",
       "      Bokeh.index[id].model.document.clear();\n",
       "      delete Bokeh.index[id];\n",
       "    }\n",
       "\n",
       "    if (server_id !== undefined) {\n",
       "      // Clean up Bokeh references\n",
       "      const cmd_clean = \"from bokeh.io.state import curstate; print(curstate().uuid_to_server['\" + server_id + \"'].get_sessions()[0].document.roots[0]._id)\";\n",
       "      cell.notebook.kernel.execute(cmd_clean, {\n",
       "        iopub: {\n",
       "          output: function(msg) {\n",
       "            const id = msg.content.text.trim();\n",
       "            if (id in Bokeh.index) {\n",
       "              Bokeh.index[id].model.document.clear();\n",
       "              delete Bokeh.index[id];\n",
       "            }\n",
       "          }\n",
       "        }\n",
       "      });\n",
       "      // Destroy server and session\n",
       "      const cmd_destroy = \"import bokeh.io.notebook as ion; ion.destroy_server('\" + server_id + \"')\";\n",
       "      cell.notebook.kernel.execute(cmd_destroy);\n",
       "    }\n",
       "  }\n",
       "\n",
       "  /**\n",
       "   * Handle when a new output is added\n",
       "   */\n",
       "  function handleAddOutput(event, handle) {\n",
       "    const output_area = handle.output_area;\n",
       "    const output = handle.output;\n",
       "\n",
       "    // limit handleAddOutput to display_data with EXEC_MIME_TYPE content only\n",
       "    if ((output.output_type != \"display_data\") || (!Object.prototype.hasOwnProperty.call(output.data, EXEC_MIME_TYPE))) {\n",
       "      return\n",
       "    }\n",
       "\n",
       "    const toinsert = output_area.element.find(\".\" + CLASS_NAME.split(' ')[0]);\n",
       "\n",
       "    if (output.metadata[EXEC_MIME_TYPE][\"id\"] !== undefined) {\n",
       "      toinsert[toinsert.length - 1].firstChild.textContent = output.data[JS_MIME_TYPE];\n",
       "      // store reference to embed id on output_area\n",
       "      output_area._bokeh_element_id = output.metadata[EXEC_MIME_TYPE][\"id\"];\n",
       "    }\n",
       "    if (output.metadata[EXEC_MIME_TYPE][\"server_id\"] !== undefined) {\n",
       "      const bk_div = document.createElement(\"div\");\n",
       "      bk_div.innerHTML = output.data[HTML_MIME_TYPE];\n",
       "      const script_attrs = bk_div.children[0].attributes;\n",
       "      for (let i = 0; i < script_attrs.length; i++) {\n",
       "        toinsert[toinsert.length - 1].firstChild.setAttribute(script_attrs[i].name, script_attrs[i].value);\n",
       "        toinsert[toinsert.length - 1].firstChild.textContent = bk_div.children[0].textContent\n",
       "      }\n",
       "      // store reference to server id on output_area\n",
       "      output_area._bokeh_server_id = output.metadata[EXEC_MIME_TYPE][\"server_id\"];\n",
       "    }\n",
       "  }\n",
       "\n",
       "  function register_renderer(events, OutputArea) {\n",
       "\n",
       "    function append_mime(data, metadata, element) {\n",
       "      // create a DOM node to render to\n",
       "      const toinsert = this.create_output_subarea(\n",
       "        metadata,\n",
       "        CLASS_NAME,\n",
       "        EXEC_MIME_TYPE\n",
       "      );\n",
       "      this.keyboard_manager.register_events(toinsert);\n",
       "      // Render to node\n",
       "      const props = {data: data, metadata: metadata[EXEC_MIME_TYPE]};\n",
       "      render(props, toinsert[toinsert.length - 1]);\n",
       "      element.append(toinsert);\n",
       "      return toinsert\n",
       "    }\n",
       "\n",
       "    /* Handle when an output is cleared or removed */\n",
       "    events.on('clear_output.CodeCell', handleClearOutput);\n",
       "    events.on('delete.Cell', handleClearOutput);\n",
       "\n",
       "    /* Handle when a new output is added */\n",
       "    events.on('output_added.OutputArea', handleAddOutput);\n",
       "\n",
       "    /**\n",
       "     * Register the mime type and append_mime function with output_area\n",
       "     */\n",
       "    OutputArea.prototype.register_mime_type(EXEC_MIME_TYPE, append_mime, {\n",
       "      /* Is output safe? */\n",
       "      safe: true,\n",
       "      /* Index of renderer in `output_area.display_order` */\n",
       "      index: 0\n",
       "    });\n",
       "  }\n",
       "\n",
       "  // register the mime type if in Jupyter Notebook environment and previously unregistered\n",
       "  if (root.Jupyter !== undefined) {\n",
       "    const events = require('base/js/events');\n",
       "    const OutputArea = require('notebook/js/outputarea').OutputArea;\n",
       "\n",
       "    if (OutputArea.prototype.mime_types().indexOf(EXEC_MIME_TYPE) == -1) {\n",
       "      register_renderer(events, OutputArea);\n",
       "    }\n",
       "  }\n",
       "  if (typeof (root._bokeh_timeout) === \"undefined\" || force === true) {\n",
       "    root._bokeh_timeout = Date.now() + 5000;\n",
       "    root._bokeh_failed_load = false;\n",
       "  }\n",
       "\n",
       "  const NB_LOAD_WARNING = {'data': {'text/html':\n",
       "     \"<div style='background-color: #fdd'>\\n\"+\n",
       "     \"<p>\\n\"+\n",
       "     \"BokehJS does not appear to have successfully loaded. If loading BokehJS from CDN, this \\n\"+\n",
       "     \"may be due to a slow or bad network connection. Possible fixes:\\n\"+\n",
       "     \"</p>\\n\"+\n",
       "     \"<ul>\\n\"+\n",
       "     \"<li>re-rerun `output_notebook()` to attempt to load from CDN again, or</li>\\n\"+\n",
       "     \"<li>use INLINE resources instead, as so:</li>\\n\"+\n",
       "     \"</ul>\\n\"+\n",
       "     \"<code>\\n\"+\n",
       "     \"from bokeh.resources import INLINE\\n\"+\n",
       "     \"output_notebook(resources=INLINE)\\n\"+\n",
       "     \"</code>\\n\"+\n",
       "     \"</div>\"}};\n",
       "\n",
       "  function display_loaded() {\n",
       "    const el = document.getElementById(\"p1096\");\n",
       "    if (el != null) {\n",
       "      el.textContent = \"BokehJS is loading...\";\n",
       "    }\n",
       "    if (root.Bokeh !== undefined) {\n",
       "      if (el != null) {\n",
       "        el.textContent = \"BokehJS \" + root.Bokeh.version + \" successfully loaded.\";\n",
       "      }\n",
       "    } else if (Date.now() < root._bokeh_timeout) {\n",
       "      setTimeout(display_loaded, 100)\n",
       "    }\n",
       "  }\n",
       "\n",
       "  function run_callbacks() {\n",
       "    try {\n",
       "      root._bokeh_onload_callbacks.forEach(function(callback) {\n",
       "        if (callback != null)\n",
       "          callback();\n",
       "      });\n",
       "    } finally {\n",
       "      delete root._bokeh_onload_callbacks\n",
       "    }\n",
       "    console.debug(\"Bokeh: all callbacks have finished\");\n",
       "  }\n",
       "\n",
       "  function load_libs(css_urls, js_urls, callback) {\n",
       "    if (css_urls == null) css_urls = [];\n",
       "    if (js_urls == null) js_urls = [];\n",
       "\n",
       "    root._bokeh_onload_callbacks.push(callback);\n",
       "    if (root._bokeh_is_loading > 0) {\n",
       "      console.debug(\"Bokeh: BokehJS is being loaded, scheduling callback at\", now());\n",
       "      return null;\n",
       "    }\n",
       "    if (js_urls == null || js_urls.length === 0) {\n",
       "      run_callbacks();\n",
       "      return null;\n",
       "    }\n",
       "    console.debug(\"Bokeh: BokehJS not loaded, scheduling load and callback at\", now());\n",
       "    root._bokeh_is_loading = css_urls.length + js_urls.length;\n",
       "\n",
       "    function on_load() {\n",
       "      root._bokeh_is_loading--;\n",
       "      if (root._bokeh_is_loading === 0) {\n",
       "        console.debug(\"Bokeh: all BokehJS libraries/stylesheets loaded\");\n",
       "        run_callbacks()\n",
       "      }\n",
       "    }\n",
       "\n",
       "    function on_error(url) {\n",
       "      console.error(\"failed to load \" + url);\n",
       "    }\n",
       "\n",
       "    for (let i = 0; i < css_urls.length; i++) {\n",
       "      const url = css_urls[i];\n",
       "      const element = document.createElement(\"link\");\n",
       "      element.onload = on_load;\n",
       "      element.onerror = on_error.bind(null, url);\n",
       "      element.rel = \"stylesheet\";\n",
       "      element.type = \"text/css\";\n",
       "      element.href = url;\n",
       "      console.debug(\"Bokeh: injecting link tag for BokehJS stylesheet: \", url);\n",
       "      document.body.appendChild(element);\n",
       "    }\n",
       "\n",
       "    for (let i = 0; i < js_urls.length; i++) {\n",
       "      const url = js_urls[i];\n",
       "      const element = document.createElement('script');\n",
       "      element.onload = on_load;\n",
       "      element.onerror = on_error.bind(null, url);\n",
       "      element.async = false;\n",
       "      element.src = url;\n",
       "      console.debug(\"Bokeh: injecting script tag for BokehJS library: \", url);\n",
       "      document.head.appendChild(element);\n",
       "    }\n",
       "  };\n",
       "\n",
       "  function inject_raw_css(css) {\n",
       "    const element = document.createElement(\"style\");\n",
       "    element.appendChild(document.createTextNode(css));\n",
       "    document.body.appendChild(element);\n",
       "  }\n",
       "\n",
       "  const js_urls = [\"https://cdn.bokeh.org/bokeh/release/bokeh-3.1.0.min.js\", \"https://cdn.bokeh.org/bokeh/release/bokeh-gl-3.1.0.min.js\", \"https://cdn.bokeh.org/bokeh/release/bokeh-widgets-3.1.0.min.js\", \"https://cdn.bokeh.org/bokeh/release/bokeh-tables-3.1.0.min.js\", \"https://cdn.bokeh.org/bokeh/release/bokeh-mathjax-3.1.0.min.js\"];\n",
       "  const css_urls = [];\n",
       "\n",
       "  const inline_js = [    function(Bokeh) {\n",
       "      Bokeh.set_log_level(\"info\");\n",
       "    },\n",
       "function(Bokeh) {\n",
       "    }\n",
       "  ];\n",
       "\n",
       "  function run_inline_js() {\n",
       "    if (root.Bokeh !== undefined || force === true) {\n",
       "          for (let i = 0; i < inline_js.length; i++) {\n",
       "      inline_js[i].call(root, root.Bokeh);\n",
       "    }\n",
       "if (force === true) {\n",
       "        display_loaded();\n",
       "      }} else if (Date.now() < root._bokeh_timeout) {\n",
       "      setTimeout(run_inline_js, 100);\n",
       "    } else if (!root._bokeh_failed_load) {\n",
       "      console.log(\"Bokeh: BokehJS failed to load within specified timeout.\");\n",
       "      root._bokeh_failed_load = true;\n",
       "    } else if (force !== true) {\n",
       "      const cell = $(document.getElementById(\"p1096\")).parents('.cell').data().cell;\n",
       "      cell.output_area.append_execute_result(NB_LOAD_WARNING)\n",
       "    }\n",
       "  }\n",
       "\n",
       "  if (root._bokeh_is_loading === 0) {\n",
       "    console.debug(\"Bokeh: BokehJS loaded, going straight to plotting\");\n",
       "    run_inline_js();\n",
       "  } else {\n",
       "    load_libs(css_urls, js_urls, function() {\n",
       "      console.debug(\"Bokeh: BokehJS plotting callback run at\", now());\n",
       "      run_inline_js();\n",
       "    });\n",
       "  }\n",
       "}(window));"
      ],
      "application/vnd.bokehjs_load.v0+json": "(function(root) {\n  function now() {\n    return new Date();\n  }\n\n  const force = true;\n\n  if (typeof root._bokeh_onload_callbacks === \"undefined\" || force === true) {\n    root._bokeh_onload_callbacks = [];\n    root._bokeh_is_loading = undefined;\n  }\n\n\n  if (typeof (root._bokeh_timeout) === \"undefined\" || force === true) {\n    root._bokeh_timeout = Date.now() + 5000;\n    root._bokeh_failed_load = false;\n  }\n\n  const NB_LOAD_WARNING = {'data': {'text/html':\n     \"<div style='background-color: #fdd'>\\n\"+\n     \"<p>\\n\"+\n     \"BokehJS does not appear to have successfully loaded. If loading BokehJS from CDN, this \\n\"+\n     \"may be due to a slow or bad network connection. Possible fixes:\\n\"+\n     \"</p>\\n\"+\n     \"<ul>\\n\"+\n     \"<li>re-rerun `output_notebook()` to attempt to load from CDN again, or</li>\\n\"+\n     \"<li>use INLINE resources instead, as so:</li>\\n\"+\n     \"</ul>\\n\"+\n     \"<code>\\n\"+\n     \"from bokeh.resources import INLINE\\n\"+\n     \"output_notebook(resources=INLINE)\\n\"+\n     \"</code>\\n\"+\n     \"</div>\"}};\n\n  function display_loaded() {\n    const el = document.getElementById(\"p1096\");\n    if (el != null) {\n      el.textContent = \"BokehJS is loading...\";\n    }\n    if (root.Bokeh !== undefined) {\n      if (el != null) {\n        el.textContent = \"BokehJS \" + root.Bokeh.version + \" successfully loaded.\";\n      }\n    } else if (Date.now() < root._bokeh_timeout) {\n      setTimeout(display_loaded, 100)\n    }\n  }\n\n  function run_callbacks() {\n    try {\n      root._bokeh_onload_callbacks.forEach(function(callback) {\n        if (callback != null)\n          callback();\n      });\n    } finally {\n      delete root._bokeh_onload_callbacks\n    }\n    console.debug(\"Bokeh: all callbacks have finished\");\n  }\n\n  function load_libs(css_urls, js_urls, callback) {\n    if (css_urls == null) css_urls = [];\n    if (js_urls == null) js_urls = [];\n\n    root._bokeh_onload_callbacks.push(callback);\n    if (root._bokeh_is_loading > 0) {\n      console.debug(\"Bokeh: BokehJS is being loaded, scheduling callback at\", now());\n      return null;\n    }\n    if (js_urls == null || js_urls.length === 0) {\n      run_callbacks();\n      return null;\n    }\n    console.debug(\"Bokeh: BokehJS not loaded, scheduling load and callback at\", now());\n    root._bokeh_is_loading = css_urls.length + js_urls.length;\n\n    function on_load() {\n      root._bokeh_is_loading--;\n      if (root._bokeh_is_loading === 0) {\n        console.debug(\"Bokeh: all BokehJS libraries/stylesheets loaded\");\n        run_callbacks()\n      }\n    }\n\n    function on_error(url) {\n      console.error(\"failed to load \" + url);\n    }\n\n    for (let i = 0; i < css_urls.length; i++) {\n      const url = css_urls[i];\n      const element = document.createElement(\"link\");\n      element.onload = on_load;\n      element.onerror = on_error.bind(null, url);\n      element.rel = \"stylesheet\";\n      element.type = \"text/css\";\n      element.href = url;\n      console.debug(\"Bokeh: injecting link tag for BokehJS stylesheet: \", url);\n      document.body.appendChild(element);\n    }\n\n    for (let i = 0; i < js_urls.length; i++) {\n      const url = js_urls[i];\n      const element = document.createElement('script');\n      element.onload = on_load;\n      element.onerror = on_error.bind(null, url);\n      element.async = false;\n      element.src = url;\n      console.debug(\"Bokeh: injecting script tag for BokehJS library: \", url);\n      document.head.appendChild(element);\n    }\n  };\n\n  function inject_raw_css(css) {\n    const element = document.createElement(\"style\");\n    element.appendChild(document.createTextNode(css));\n    document.body.appendChild(element);\n  }\n\n  const js_urls = [\"https://cdn.bokeh.org/bokeh/release/bokeh-3.1.0.min.js\", \"https://cdn.bokeh.org/bokeh/release/bokeh-gl-3.1.0.min.js\", \"https://cdn.bokeh.org/bokeh/release/bokeh-widgets-3.1.0.min.js\", \"https://cdn.bokeh.org/bokeh/release/bokeh-tables-3.1.0.min.js\", \"https://cdn.bokeh.org/bokeh/release/bokeh-mathjax-3.1.0.min.js\"];\n  const css_urls = [];\n\n  const inline_js = [    function(Bokeh) {\n      Bokeh.set_log_level(\"info\");\n    },\nfunction(Bokeh) {\n    }\n  ];\n\n  function run_inline_js() {\n    if (root.Bokeh !== undefined || force === true) {\n          for (let i = 0; i < inline_js.length; i++) {\n      inline_js[i].call(root, root.Bokeh);\n    }\nif (force === true) {\n        display_loaded();\n      }} else if (Date.now() < root._bokeh_timeout) {\n      setTimeout(run_inline_js, 100);\n    } else if (!root._bokeh_failed_load) {\n      console.log(\"Bokeh: BokehJS failed to load within specified timeout.\");\n      root._bokeh_failed_load = true;\n    } else if (force !== true) {\n      const cell = $(document.getElementById(\"p1096\")).parents('.cell').data().cell;\n      cell.output_area.append_execute_result(NB_LOAD_WARNING)\n    }\n  }\n\n  if (root._bokeh_is_loading === 0) {\n    console.debug(\"Bokeh: BokehJS loaded, going straight to plotting\");\n    run_inline_js();\n  } else {\n    load_libs(css_urls, js_urls, function() {\n      console.debug(\"Bokeh: BokehJS plotting callback run at\", now());\n      run_inline_js();\n    });\n  }\n}(window));"
     },
     "metadata": {},
     "output_type": "display_data"
    }
   ],
   "source": [
    "import bokeh.plotting as bp\n",
    "import bokeh.io as bio\n",
    "import bokeh.models as bm\n",
    "import bokeh.layouts as bl\n",
    "\n",
    "bio.output_notebook()"
   ]
  },
  {
   "cell_type": "code",
   "execution_count": 91,
   "id": "c348ac5b-b167-4eaf-96e7-d19e4b3e2a2e",
   "metadata": {
    "tags": []
   },
   "outputs": [
    {
     "data": {
      "text/html": [
       "\n",
       "  <div id=\"866da5f2-caf3-4abc-8f30-7e6f9ad6131b\" data-root-id=\"p21207\" style=\"display: contents;\"></div>\n"
      ]
     },
     "metadata": {},
     "output_type": "display_data"
    },
    {
     "data": {
      "application/javascript": [
       "(function(root) {\n",
       "  function embed_document(root) {\n",
       "  const docs_json = {\"c4f2f47a-c34e-4054-978b-1781ba24e84e\":{\"version\":\"3.1.0\",\"title\":\"Bokeh Application\",\"defs\":[],\"roots\":[{\"type\":\"object\",\"name\":\"GridPlot\",\"id\":\"p21207\",\"attributes\":{\"rows\":null,\"cols\":null,\"toolbar\":{\"type\":\"object\",\"name\":\"Toolbar\",\"id\":\"p21206\",\"attributes\":{\"tools\":[{\"type\":\"object\",\"name\":\"ToolProxy\",\"id\":\"p21200\",\"attributes\":{\"tools\":[{\"type\":\"object\",\"name\":\"PanTool\",\"id\":\"p21080\"},{\"type\":\"object\",\"name\":\"PanTool\",\"id\":\"p21136\"}]}},{\"type\":\"object\",\"name\":\"ToolProxy\",\"id\":\"p21201\",\"attributes\":{\"tools\":[{\"type\":\"object\",\"name\":\"WheelZoomTool\",\"id\":\"p21081\"},{\"type\":\"object\",\"name\":\"WheelZoomTool\",\"id\":\"p21137\"}]}},{\"type\":\"object\",\"name\":\"ToolProxy\",\"id\":\"p21202\",\"attributes\":{\"tools\":[{\"type\":\"object\",\"name\":\"BoxZoomTool\",\"id\":\"p21082\",\"attributes\":{\"overlay\":{\"type\":\"object\",\"name\":\"BoxAnnotation\",\"id\":\"p21083\",\"attributes\":{\"syncable\":false,\"level\":\"overlay\",\"visible\":false,\"left_units\":\"canvas\",\"right_units\":\"canvas\",\"bottom_units\":\"canvas\",\"top_units\":\"canvas\",\"line_color\":\"black\",\"line_alpha\":1.0,\"line_width\":2,\"line_dash\":[4,4],\"fill_color\":\"lightgrey\",\"fill_alpha\":0.5}}}},{\"type\":\"object\",\"name\":\"BoxZoomTool\",\"id\":\"p21138\",\"attributes\":{\"overlay\":{\"type\":\"object\",\"name\":\"BoxAnnotation\",\"id\":\"p21139\",\"attributes\":{\"syncable\":false,\"level\":\"overlay\",\"visible\":false,\"left_units\":\"canvas\",\"right_units\":\"canvas\",\"bottom_units\":\"canvas\",\"top_units\":\"canvas\",\"line_color\":\"black\",\"line_alpha\":1.0,\"line_width\":2,\"line_dash\":[4,4],\"fill_color\":\"lightgrey\",\"fill_alpha\":0.5}}}}]}},{\"type\":\"object\",\"name\":\"SaveTool\",\"id\":\"p21203\"},{\"type\":\"object\",\"name\":\"ToolProxy\",\"id\":\"p21204\",\"attributes\":{\"tools\":[{\"type\":\"object\",\"name\":\"ResetTool\",\"id\":\"p21085\"},{\"type\":\"object\",\"name\":\"ResetTool\",\"id\":\"p21141\"}]}},{\"type\":\"object\",\"name\":\"ToolProxy\",\"id\":\"p21205\",\"attributes\":{\"tools\":[{\"type\":\"object\",\"name\":\"HelpTool\",\"id\":\"p21086\"},{\"type\":\"object\",\"name\":\"HelpTool\",\"id\":\"p21142\"}]}},{\"type\":\"object\",\"name\":\"HoverTool\",\"id\":\"p21088\",\"attributes\":{\"renderers\":\"auto\",\"tooltips\":[[\"Month\",\"@Year_Qtr_Month\"],[\"Value\",\"@{Customer Key}\"]]}},{\"type\":\"object\",\"name\":\"HoverTool\",\"id\":\"p21144\",\"attributes\":{\"renderers\":\"auto\",\"tooltips\":[[\"Industry\",\"@Industry\"],[\"Value\",\"@{Customer Key}\"]]}}]}},\"children\":[[{\"type\":\"object\",\"name\":\"DataTable\",\"id\":\"p21044\",\"attributes\":{\"width\":250,\"height\":150,\"source\":{\"type\":\"object\",\"name\":\"ColumnDataSource\",\"id\":\"p21023\",\"attributes\":{\"selected\":{\"type\":\"object\",\"name\":\"Selection\",\"id\":\"p21025\",\"attributes\":{\"indices\":[],\"line_indices\":[]}},\"selection_policy\":{\"type\":\"object\",\"name\":\"UnionRenderers\",\"id\":\"p21024\"},\"data\":{\"type\":\"map\",\"entries\":[[\"Product\",{\"type\":\"ndarray\",\"array\":[\"Primus\",\"MI-72\",\"(Blank)\",\"Gladius\",\"Sova\",\"Doroga\",\"Gunner\"],\"shape\":[7],\"dtype\":\"object\",\"order\":\"little\"}],[\"Customer Key\",{\"type\":\"ndarray\",\"array\":{\"type\":\"bytes\",\"data\":\"IAAAABEAAAAQAAAADgAAAAoAAAAHAAAAAwAAAA==\"},\"shape\":[7],\"dtype\":\"int32\",\"order\":\"little\"}]]}}},\"view\":{\"type\":\"object\",\"name\":\"CDSView\",\"id\":\"p21042\",\"attributes\":{\"filter\":{\"type\":\"object\",\"name\":\"IndexFilter\",\"id\":\"p21041\",\"attributes\":{\"indices\":[0,1,2]}}}},\"columns\":[{\"type\":\"object\",\"name\":\"TableColumn\",\"id\":\"p21035\",\"attributes\":{\"field\":\"Product\",\"title\":\"Product\",\"formatter\":{\"type\":\"object\",\"name\":\"StringFormatter\",\"id\":\"p21037\"},\"editor\":{\"type\":\"object\",\"name\":\"StringEditor\",\"id\":\"p21036\"}}},{\"type\":\"object\",\"name\":\"TableColumn\",\"id\":\"p21038\",\"attributes\":{\"field\":\"Customer Key\",\"title\":\"Value\",\"formatter\":{\"type\":\"object\",\"name\":\"StringFormatter\",\"id\":\"p21040\"},\"editor\":{\"type\":\"object\",\"name\":\"StringEditor\",\"id\":\"p21039\"}}}],\"index_position\":null}},0,0],[{\"type\":\"object\",\"name\":\"Figure\",\"id\":\"p21051\",\"attributes\":{\"width\":700,\"height\":250,\"x_range\":{\"type\":\"object\",\"name\":\"FactorRange\",\"id\":\"p21050\",\"attributes\":{\"factors\":[[\"2013\",\"Q3\",\"Aug\"],[\"2013\",\"Q3\",\"Sep\"],[\"2013\",\"Q4\",\"Oct\"],[\"2013\",\"Q4\",\"Nov\"],[\"2013\",\"Q4\",\"Dec\"],[\"2014\",\"Q1\",\"Jan\"],[\"2014\",\"Q1\",\"Feb\"],[\"2014\",\"Q1\",\"Mar\"],[\"2014\",\"Q2\",\"Apr\"],[\"2014\",\"Q2\",\"May\"],[\"2014\",\"Q2\",\"Jun\"],[\"2014\",\"Q3\",\"Jul\"],[\"2014\",\"Q3\",\"Aug\"],[\"2014\",\"Q3\",\"Sep\"],[\"2014\",\"Q4\",\"Oct\"],[\"2014\",\"Q4\",\"Nov\"]],\"subgroup_padding\":0,\"group_padding\":0}},\"y_range\":{\"type\":\"object\",\"name\":\"DataRange1d\",\"id\":\"p21053\"},\"x_scale\":{\"type\":\"object\",\"name\":\"CategoricalScale\",\"id\":\"p21063\"},\"y_scale\":{\"type\":\"object\",\"name\":\"LinearScale\",\"id\":\"p21065\"},\"title\":{\"type\":\"object\",\"name\":\"Title\",\"id\":\"p21057\"},\"renderers\":[{\"type\":\"object\",\"name\":\"GlyphRenderer\",\"id\":\"p21103\",\"attributes\":{\"data_source\":{\"type\":\"object\",\"name\":\"ColumnDataSource\",\"id\":\"p21029\",\"attributes\":{\"selected\":{\"type\":\"object\",\"name\":\"Selection\",\"id\":\"p21031\",\"attributes\":{\"indices\":[],\"line_indices\":[]}},\"selection_policy\":{\"type\":\"object\",\"name\":\"UnionRenderers\",\"id\":\"p21030\"},\"data\":{\"type\":\"map\",\"entries\":[[\"Year_Qtr_Month\",{\"type\":\"ndarray\",\"array\":[[\"2013\",\"Q3\",\"Aug\"],[\"2013\",\"Q3\",\"Sep\"],[\"2013\",\"Q4\",\"Oct\"],[\"2013\",\"Q4\",\"Nov\"],[\"2013\",\"Q4\",\"Dec\"],[\"2014\",\"Q1\",\"Jan\"],[\"2014\",\"Q1\",\"Feb\"],[\"2014\",\"Q1\",\"Mar\"],[\"2014\",\"Q2\",\"Apr\"],[\"2014\",\"Q2\",\"May\"],[\"2014\",\"Q2\",\"Jun\"],[\"2014\",\"Q3\",\"Jul\"],[\"2014\",\"Q3\",\"Aug\"],[\"2014\",\"Q3\",\"Sep\"],[\"2014\",\"Q4\",\"Oct\"],[\"2014\",\"Q4\",\"Nov\"]],\"shape\":[16],\"dtype\":\"object\",\"order\":\"little\"}],[\"Customer Key\",{\"type\":\"ndarray\",\"array\":{\"type\":\"bytes\",\"data\":\"DAAAAAwAAAAOAAAADwAAABIAAAAYAAAAGAAAABwAAAAdAAAAIwAAADEAAAAtAAAAKgAAADEAAAAiAAAAMwAAAA==\"},\"shape\":[16],\"dtype\":\"int32\",\"order\":\"little\"}]]}}},\"view\":{\"type\":\"object\",\"name\":\"CDSView\",\"id\":\"p21104\",\"attributes\":{\"filter\":{\"type\":\"object\",\"name\":\"AllIndices\",\"id\":\"p21105\"}}},\"glyph\":{\"type\":\"object\",\"name\":\"Line\",\"id\":\"p21100\",\"attributes\":{\"x\":{\"type\":\"field\",\"field\":\"Year_Qtr_Month\"},\"y\":{\"type\":\"field\",\"field\":\"Customer Key\"},\"line_color\":\"#1f77b4\"}},\"nonselection_glyph\":{\"type\":\"object\",\"name\":\"Line\",\"id\":\"p21101\",\"attributes\":{\"x\":{\"type\":\"field\",\"field\":\"Year_Qtr_Month\"},\"y\":{\"type\":\"field\",\"field\":\"Customer Key\"},\"line_color\":\"#1f77b4\",\"line_alpha\":0.1}},\"muted_glyph\":{\"type\":\"object\",\"name\":\"Line\",\"id\":\"p21102\",\"attributes\":{\"x\":{\"type\":\"field\",\"field\":\"Year_Qtr_Month\"},\"y\":{\"type\":\"field\",\"field\":\"Customer Key\"},\"line_color\":\"#1f77b4\",\"line_alpha\":0.2}}}}],\"toolbar\":{\"type\":\"object\",\"name\":\"Toolbar\",\"id\":\"p21055\",\"attributes\":{\"tools\":[{\"id\":\"p21080\"},{\"id\":\"p21081\"},{\"id\":\"p21082\"},{\"type\":\"object\",\"name\":\"SaveTool\",\"id\":\"p21084\"},{\"id\":\"p21085\"},{\"id\":\"p21086\"},{\"id\":\"p21088\"}]}},\"toolbar_location\":null,\"left\":[{\"type\":\"object\",\"name\":\"LinearAxis\",\"id\":\"p21073\",\"attributes\":{\"ticker\":{\"type\":\"object\",\"name\":\"BasicTicker\",\"id\":\"p21075\",\"attributes\":{\"mantissas\":[1,2,5]}},\"formatter\":{\"type\":\"object\",\"name\":\"BasicTickFormatter\",\"id\":\"p21074\"},\"major_label_policy\":{\"type\":\"object\",\"name\":\"AllLabels\",\"id\":\"p21076\"}}}],\"below\":[{\"type\":\"object\",\"name\":\"CategoricalAxis\",\"id\":\"p21067\",\"attributes\":{\"ticker\":{\"type\":\"object\",\"name\":\"CategoricalTicker\",\"id\":\"p21069\"},\"formatter\":{\"type\":\"object\",\"name\":\"CategoricalTickFormatter\",\"id\":\"p21068\"},\"major_label_policy\":{\"type\":\"object\",\"name\":\"AllLabels\",\"id\":\"p21070\"}}}],\"center\":[{\"type\":\"object\",\"name\":\"Grid\",\"id\":\"p21072\",\"attributes\":{\"axis\":{\"id\":\"p21067\"}}},{\"type\":\"object\",\"name\":\"Grid\",\"id\":\"p21079\",\"attributes\":{\"dimension\":1,\"axis\":{\"id\":\"p21073\"}}}]}},0,1],[{\"type\":\"object\",\"name\":\"Figure\",\"id\":\"p21106\",\"attributes\":{\"width\":350,\"height\":500,\"x_range\":{\"type\":\"object\",\"name\":\"DataRange1d\",\"id\":\"p21108\"},\"y_range\":{\"type\":\"object\",\"name\":\"FactorRange\",\"id\":\"p21117\",\"attributes\":{\"factors\":[\"Materials\",\"Semiconductor\",\"Retail\",\"Pharma\",\"Insurance\",\"Utilities\",\"Financial\",\"Distribution\",\"Oil & Gas\",\"Energy\",\"Telecom\",\"Industrial\",\"Transportation\",\"High Tech\",\"Metals\",\"CPG\",\"Services\",\"(Blank)\"]}},\"x_scale\":{\"type\":\"object\",\"name\":\"LinearScale\",\"id\":\"p21119\"},\"y_scale\":{\"type\":\"object\",\"name\":\"CategoricalScale\",\"id\":\"p21121\"},\"title\":{\"type\":\"object\",\"name\":\"Title\",\"id\":\"p21112\"},\"renderers\":[{\"type\":\"object\",\"name\":\"GlyphRenderer\",\"id\":\"p21159\",\"attributes\":{\"data_source\":{\"type\":\"object\",\"name\":\"ColumnDataSource\",\"id\":\"p21026\",\"attributes\":{\"selected\":{\"type\":\"object\",\"name\":\"Selection\",\"id\":\"p21028\",\"attributes\":{\"indices\":[],\"line_indices\":[]}},\"selection_policy\":{\"type\":\"object\",\"name\":\"UnionRenderers\",\"id\":\"p21027\"},\"data\":{\"type\":\"map\",\"entries\":[[\"Industry\",{\"type\":\"ndarray\",\"array\":[\"Materials\",\"Semiconductor\",\"Retail\",\"Pharma\",\"Insurance\",\"Utilities\",\"Financial\",\"Distribution\",\"Oil & Gas\",\"Energy\",\"Telecom\",\"Industrial\",\"Transportation\",\"High Tech\",\"Metals\",\"CPG\",\"Services\",\"(Blank)\"],\"shape\":[18],\"dtype\":\"object\",\"order\":\"little\"}],[\"Customer Key\",{\"type\":\"ndarray\",\"array\":{\"type\":\"bytes\",\"data\":\"AQAAAAEAAAABAAAAAQAAAAEAAAABAAAAAQAAAAEAAAACAAAAAgAAAAIAAAADAAAAAwAAAAMAAAAFAAAACQAAAAsAAAARAAAA\"},\"shape\":[18],\"dtype\":\"int32\",\"order\":\"little\"}]]}}},\"view\":{\"type\":\"object\",\"name\":\"CDSView\",\"id\":\"p21160\",\"attributes\":{\"filter\":{\"type\":\"object\",\"name\":\"AllIndices\",\"id\":\"p21161\"}}},\"glyph\":{\"type\":\"object\",\"name\":\"HBar\",\"id\":\"p21156\",\"attributes\":{\"y\":{\"type\":\"field\",\"field\":\"Industry\"},\"right\":{\"type\":\"field\",\"field\":\"Customer Key\"},\"line_color\":{\"type\":\"value\",\"value\":\"white\"},\"fill_color\":{\"type\":\"value\",\"value\":\"#1f77b4\"}}},\"nonselection_glyph\":{\"type\":\"object\",\"name\":\"HBar\",\"id\":\"p21157\",\"attributes\":{\"y\":{\"type\":\"field\",\"field\":\"Industry\"},\"right\":{\"type\":\"field\",\"field\":\"Customer Key\"},\"line_color\":{\"type\":\"value\",\"value\":\"white\"},\"line_alpha\":{\"type\":\"value\",\"value\":0.1},\"fill_color\":{\"type\":\"value\",\"value\":\"#1f77b4\"},\"fill_alpha\":{\"type\":\"value\",\"value\":0.1},\"hatch_alpha\":{\"type\":\"value\",\"value\":0.1}}},\"muted_glyph\":{\"type\":\"object\",\"name\":\"HBar\",\"id\":\"p21158\",\"attributes\":{\"y\":{\"type\":\"field\",\"field\":\"Industry\"},\"right\":{\"type\":\"field\",\"field\":\"Customer Key\"},\"line_color\":{\"type\":\"value\",\"value\":\"white\"},\"line_alpha\":{\"type\":\"value\",\"value\":0.2},\"fill_color\":{\"type\":\"value\",\"value\":\"#1f77b4\"},\"fill_alpha\":{\"type\":\"value\",\"value\":0.2},\"hatch_alpha\":{\"type\":\"value\",\"value\":0.2}}}}}],\"toolbar\":{\"type\":\"object\",\"name\":\"Toolbar\",\"id\":\"p21110\",\"attributes\":{\"tools\":[{\"id\":\"p21136\"},{\"id\":\"p21137\"},{\"id\":\"p21138\"},{\"type\":\"object\",\"name\":\"SaveTool\",\"id\":\"p21140\"},{\"id\":\"p21141\"},{\"id\":\"p21142\"},{\"id\":\"p21144\"}]}},\"toolbar_location\":null,\"left\":[{\"type\":\"object\",\"name\":\"CategoricalAxis\",\"id\":\"p21130\",\"attributes\":{\"ticker\":{\"type\":\"object\",\"name\":\"CategoricalTicker\",\"id\":\"p21132\"},\"formatter\":{\"type\":\"object\",\"name\":\"CategoricalTickFormatter\",\"id\":\"p21131\"},\"major_label_policy\":{\"type\":\"object\",\"name\":\"AllLabels\",\"id\":\"p21133\"}}}],\"below\":[{\"type\":\"object\",\"name\":\"LinearAxis\",\"id\":\"p21123\",\"attributes\":{\"ticker\":{\"type\":\"object\",\"name\":\"BasicTicker\",\"id\":\"p21125\",\"attributes\":{\"mantissas\":[1,2,5]}},\"formatter\":{\"type\":\"object\",\"name\":\"BasicTickFormatter\",\"id\":\"p21124\"},\"major_label_policy\":{\"type\":\"object\",\"name\":\"AllLabels\",\"id\":\"p21126\"}}}],\"center\":[{\"type\":\"object\",\"name\":\"Grid\",\"id\":\"p21129\",\"attributes\":{\"axis\":{\"id\":\"p21123\"}}},{\"type\":\"object\",\"name\":\"Grid\",\"id\":\"p21135\",\"attributes\":{\"dimension\":1,\"axis\":{\"id\":\"p21130\"}}}]}},1,0]]}}],\"callbacks\":{\"type\":\"map\"}}};\n",
       "  const render_items = [{\"docid\":\"c4f2f47a-c34e-4054-978b-1781ba24e84e\",\"roots\":{\"p21207\":\"866da5f2-caf3-4abc-8f30-7e6f9ad6131b\"},\"root_ids\":[\"p21207\"]}];\n",
       "  root.Bokeh.embed.embed_items_notebook(docs_json, render_items);\n",
       "  }\n",
       "  if (root.Bokeh !== undefined) {\n",
       "    embed_document(root);\n",
       "  } else {\n",
       "    let attempts = 0;\n",
       "    const timer = setInterval(function(root) {\n",
       "      if (root.Bokeh !== undefined) {\n",
       "        clearInterval(timer);\n",
       "        embed_document(root);\n",
       "      } else {\n",
       "        attempts++;\n",
       "        if (attempts > 100) {\n",
       "          clearInterval(timer);\n",
       "          console.log(\"Bokeh: ERROR: Unable to run BokehJS code because BokehJS library is missing\");\n",
       "        }\n",
       "      }\n",
       "    }, 10, root)\n",
       "  }\n",
       "})(window);"
      ],
      "application/vnd.bokehjs_exec.v0+json": ""
     },
     "metadata": {
      "application/vnd.bokehjs_exec.v0+json": {
       "id": "p21207"
      }
     },
     "output_type": "display_data"
    }
   ],
   "source": [
    "# def plot_data(top_num, metrics):\n",
    "data_selected = get_data(file_path)\n",
    "if metrics == '# of Customers':\n",
    "    field = 'Customer Key'\n",
    "    table_data = data_selected.groupby('Product', dropna=False).nunique().sort_values(by=field, ascending=False)[[field]]\n",
    "    indx = table_data.index[:top_num]\n",
    "    filtered_rows = data_selected['Product'].apply(lambda x: x in indx)\n",
    "    bar_data = data_selected.loc[filtered_rows, :].groupby('Industry', dropna=False).nunique().sort_values(by=field)[[field]]\n",
    "    line_group = data_selected.loc[filtered_rows, :].groupby(['Year', 'Qtr', 'Month'], dropna=False, observed=True)\n",
    "    line_data = line_group.nunique()[[field]]\n",
    "    state_data = data_selected.loc[filtered_rows, :].groupby('State_y').nunique()[[field]]\n",
    "    \n",
    "source = bm.ColumnDataSource(data_selected)\n",
    "source_table = bm.ColumnDataSource(table_data)\n",
    "source_bar = bm.ColumnDataSource(bar_data)\n",
    "source_line = bm.ColumnDataSource(line_data)\n",
    "source_map = bm.ColumnDataSource(state_data)\n",
    "\n",
    "# Table chart\n",
    "columns = [\n",
    "    bm.TableColumn(field='Product', title='Product'),\n",
    "    bm.TableColumn(field=field, title='Value')]\n",
    "chart_table = bm.DataTable(\n",
    "    columns=columns, source=source_table, \n",
    "    width=250, height=150,\n",
    "    index_position=None,\n",
    "    view=bm.CDSView(filter=bm.IndexFilter(list(range(top_num)))))\n",
    "\n",
    "# Line chart\n",
    "chart_line = bp.figure(width=700, height=250, \n",
    "                       x_range=bm.FactorRange(*source_line.data['Year_Qtr_Month'], group_padding=0, subgroup_padding=0),\n",
    "                      tooltips=[(\"Month\", \"@Year_Qtr_Month\"), (\"Value\", f\"@{{{field}}}\")])\n",
    "chart_line.line(x='Year_Qtr_Month', y=field, source=source_line)\n",
    "\n",
    "# Bar chart\n",
    "char_bar = bp.figure(width=350, height=500, y_range=source_bar.data['Industry'],\n",
    "                    tooltips=[(\"Industry\", \"@Industry\"), (\"Value\", f\"@{{{field}}}\")])\n",
    "char_bar.hbar(y='Industry', right=field, source=source_bar,\n",
    "              line_color='white')\n",
    "\n",
    "# Map chart\n",
    "\n",
    "\n",
    "bio.show(bl.gridplot([[chart_table, chart_line], [char_bar, None]]))"
   ]
  },
  {
   "cell_type": "code",
   "execution_count": 102,
   "id": "ad38c461-e3f8-4a51-9fd5-b1b9589127ec",
   "metadata": {
    "tags": []
   },
   "outputs": [
    {
     "data": {
      "text/html": [
       "\n",
       "  <div id=\"6694eaf8-f9b2-48ab-99d4-f1c7510ab8b9\" data-root-id=\"p28792\" style=\"display: contents;\"></div>\n"
      ]
     },
     "metadata": {},
     "output_type": "display_data"
    },
    {
     "data": {
      "application/javascript": [
       "(function(root) {\n",
       "  function embed_document(root) {\n",
       "  const docs_json = {\"3a068d61-2b3c-4d6f-9b70-90f2e2b1f45b\":{\"version\":\"3.1.0\",\"title\":\"Bokeh Application\",\"defs\":[],\"roots\":[{\"type\":\"object\",\"name\":\"Figure\",\"id\":\"p28792\",\"attributes\":{\"height\":300,\"x_range\":{\"type\":\"object\",\"name\":\"Range1d\",\"id\":\"p28801\",\"attributes\":{\"start\":-14000000,\"end\":-7000000}},\"y_range\":{\"type\":\"object\",\"name\":\"Range1d\",\"id\":\"p28803\",\"attributes\":{\"start\":2700000,\"end\":6400000}},\"x_scale\":{\"type\":\"object\",\"name\":\"LinearScale\",\"id\":\"p28805\"},\"y_scale\":{\"type\":\"object\",\"name\":\"LinearScale\",\"id\":\"p28807\"},\"title\":{\"type\":\"object\",\"name\":\"Title\",\"id\":\"p28798\"},\"renderers\":[{\"type\":\"object\",\"name\":\"TileRenderer\",\"id\":\"p28847\",\"attributes\":{\"tile_source\":{\"type\":\"object\",\"name\":\"WMTSTileSource\",\"id\":\"p28846\",\"attributes\":{\"url\":\"https://a.basemaps.cartocdn.com/light_all/{z}/{x}/{y}@2x.png\",\"max_zoom\":20,\"attribution\":\"&copy; <a href=\\\"https://www.openstreetmap.org/copyright\\\">OpenStreetMap</a> contributors &copy; <a href=\\\"https://carto.com/attributions\\\">CARTO</a>\"}}}}],\"toolbar\":{\"type\":\"object\",\"name\":\"Toolbar\",\"id\":\"p28796\",\"attributes\":{\"tools\":[{\"type\":\"object\",\"name\":\"PanTool\",\"id\":\"p28831\"},{\"type\":\"object\",\"name\":\"WheelZoomTool\",\"id\":\"p28832\"},{\"type\":\"object\",\"name\":\"BoxZoomTool\",\"id\":\"p28833\",\"attributes\":{\"overlay\":{\"type\":\"object\",\"name\":\"BoxAnnotation\",\"id\":\"p28834\",\"attributes\":{\"syncable\":false,\"level\":\"overlay\",\"visible\":false,\"left_units\":\"canvas\",\"right_units\":\"canvas\",\"bottom_units\":\"canvas\",\"top_units\":\"canvas\",\"line_color\":\"black\",\"line_alpha\":1.0,\"line_width\":2,\"line_dash\":[4,4],\"fill_color\":\"lightgrey\",\"fill_alpha\":0.5}}}},{\"type\":\"object\",\"name\":\"SaveTool\",\"id\":\"p28835\"},{\"type\":\"object\",\"name\":\"ResetTool\",\"id\":\"p28836\"},{\"type\":\"object\",\"name\":\"HelpTool\",\"id\":\"p28837\"}]}},\"left\":[{\"type\":\"object\",\"name\":\"MercatorAxis\",\"id\":\"p28820\",\"attributes\":{\"ticker\":{\"type\":\"object\",\"name\":\"MercatorTicker\",\"id\":\"p28822\",\"attributes\":{\"mantissas\":[1,2,5],\"dimension\":\"lat\"}},\"formatter\":{\"type\":\"object\",\"name\":\"MercatorTickFormatter\",\"id\":\"p28821\",\"attributes\":{\"dimension\":\"lat\"}},\"major_label_policy\":{\"type\":\"object\",\"name\":\"AllLabels\",\"id\":\"p28823\"}}}],\"below\":[{\"type\":\"object\",\"name\":\"MercatorAxis\",\"id\":\"p28809\",\"attributes\":{\"ticker\":{\"type\":\"object\",\"name\":\"MercatorTicker\",\"id\":\"p28811\",\"attributes\":{\"mantissas\":[1,2,5],\"dimension\":\"lon\"}},\"formatter\":{\"type\":\"object\",\"name\":\"MercatorTickFormatter\",\"id\":\"p28810\",\"attributes\":{\"dimension\":\"lon\"}},\"major_label_policy\":{\"type\":\"object\",\"name\":\"AllLabels\",\"id\":\"p28812\"}}}],\"center\":[{\"type\":\"object\",\"name\":\"Grid\",\"id\":\"p28819\",\"attributes\":{\"axis\":{\"id\":\"p28809\"}}},{\"type\":\"object\",\"name\":\"Grid\",\"id\":\"p28830\",\"attributes\":{\"dimension\":1,\"axis\":{\"id\":\"p28820\"}}}]}}],\"callbacks\":{\"type\":\"map\"}}};\n",
       "  const render_items = [{\"docid\":\"3a068d61-2b3c-4d6f-9b70-90f2e2b1f45b\",\"roots\":{\"p28792\":\"6694eaf8-f9b2-48ab-99d4-f1c7510ab8b9\"},\"root_ids\":[\"p28792\"]}];\n",
       "  root.Bokeh.embed.embed_items_notebook(docs_json, render_items);\n",
       "  }\n",
       "  if (root.Bokeh !== undefined) {\n",
       "    embed_document(root);\n",
       "  } else {\n",
       "    let attempts = 0;\n",
       "    const timer = setInterval(function(root) {\n",
       "      if (root.Bokeh !== undefined) {\n",
       "        clearInterval(timer);\n",
       "        embed_document(root);\n",
       "      } else {\n",
       "        attempts++;\n",
       "        if (attempts > 100) {\n",
       "          clearInterval(timer);\n",
       "          console.log(\"Bokeh: ERROR: Unable to run BokehJS code because BokehJS library is missing\");\n",
       "        }\n",
       "      }\n",
       "    }, 10, root)\n",
       "  }\n",
       "})(window);"
      ],
      "application/vnd.bokehjs_exec.v0+json": ""
     },
     "metadata": {
      "application/vnd.bokehjs_exec.v0+json": {
       "id": "p28792"
      }
     },
     "output_type": "display_data"
    }
   ],
   "source": [
    "p = figure(x_range=(-14000000, -7000000), y_range=(2700000, 6400000),\n",
    "           width=600, height=300,\n",
    "           x_axis_type=\"mercator\", y_axis_type=\"mercator\"\n",
    "          )\n",
    "\n",
    "p.add_tile(\"CartoDB Positron\", retina=True)\n",
    "\n",
    "show(p)\n",
    "\n",
    "# for reference https://geopandas.org/en/stable/gallery/plotting_basemap_background.html#Matching-coordinate-systems"
   ]
  },
  {
   "cell_type": "code",
   "execution_count": 101,
   "id": "5b09cb2f-fb2f-4f74-94d5-866a5aeb48e4",
   "metadata": {
    "tags": []
   },
   "outputs": [
    {
     "ename": "ModuleNotFoundError",
     "evalue": "No module named 'geopandas'",
     "output_type": "error",
     "traceback": [
      "\u001b[1;31m---------------------------------------------------------------------------\u001b[0m",
      "\u001b[1;31mModuleNotFoundError\u001b[0m                       Traceback (most recent call last)",
      "Cell \u001b[1;32mIn[101], line 1\u001b[0m\n\u001b[1;32m----> 1\u001b[0m \u001b[38;5;28;01mimport\u001b[39;00m \u001b[38;5;21;01mgeopandas\u001b[39;00m \u001b[38;5;28;01mas\u001b[39;00m \u001b[38;5;21;01mgpd\u001b[39;00m\n",
      "\u001b[1;31mModuleNotFoundError\u001b[0m: No module named 'geopandas'"
     ]
    }
   ],
   "source": [
    "import geopandas as gpd"
   ]
  },
  {
   "cell_type": "code",
   "execution_count": null,
   "id": "b6d22ff2-2f6b-4f57-9aee-e508bfff8852",
   "metadata": {},
   "outputs": [],
   "source": []
  }
 ],
 "metadata": {
  "kernelspec": {
   "display_name": "Python 3 (ipykernel)",
   "language": "python",
   "name": "python3"
  },
  "language_info": {
   "codemirror_mode": {
    "name": "ipython",
    "version": 3
   },
   "file_extension": ".py",
   "mimetype": "text/x-python",
   "name": "python",
   "nbconvert_exporter": "python",
   "pygments_lexer": "ipython3",
   "version": "3.10.8"
  }
 },
 "nbformat": 4,
 "nbformat_minor": 5
}
