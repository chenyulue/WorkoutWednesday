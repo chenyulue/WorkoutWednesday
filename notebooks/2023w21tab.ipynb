{
 "cells": [
  {
   "cell_type": "markdown",
   "id": "c519b9c4-b510-475a-9acb-8dccc52119b6",
   "metadata": {},
   "source": [
    "# 1. Introduction\n",
    "\n",
    "This challenge comes from [#WOW2023 | Week 21 | Profit vs Target (with Tolerance)](https://workout-wednesday.com/2023w21tab/). The key points are highlighting some specific bar and allowing the user to select a *tolerance* interactively."
   ]
  },
  {
   "cell_type": "code",
   "execution_count": 1,
   "id": "f4451fb9-4f03-4847-b1a5-5464500008e8",
   "metadata": {
    "tags": []
   },
   "outputs": [],
   "source": [
    "import pandas as pd\n",
    "import numpy as np"
   ]
  },
  {
   "cell_type": "code",
   "execution_count": 2,
   "id": "d0004b88-5a19-4776-b9b3-d97e90259f15",
   "metadata": {
    "tags": []
   },
   "outputs": [],
   "source": [
    "file_path = '../data/Superstore with Target Profit WOW2023 W21.xlsx'"
   ]
  },
  {
   "cell_type": "code",
   "execution_count": 3,
   "id": "2ade6105-324b-42fa-bca7-39e32e264af9",
   "metadata": {
    "tags": []
   },
   "outputs": [],
   "source": [
    "data = pd.read_excel(file_path)"
   ]
  },
  {
   "cell_type": "code",
   "execution_count": 4,
   "id": "038eb523-5ca2-4d4d-a347-b2864b2273bf",
   "metadata": {
    "tags": []
   },
   "outputs": [
    {
     "data": {
      "text/html": [
       "<div>\n",
       "<style scoped>\n",
       "    .dataframe tbody tr th:only-of-type {\n",
       "        vertical-align: middle;\n",
       "    }\n",
       "\n",
       "    .dataframe tbody tr th {\n",
       "        vertical-align: top;\n",
       "    }\n",
       "\n",
       "    .dataframe thead th {\n",
       "        text-align: right;\n",
       "    }\n",
       "</style>\n",
       "<table border=\"1\" class=\"dataframe\">\n",
       "  <thead>\n",
       "    <tr style=\"text-align: right;\">\n",
       "      <th></th>\n",
       "      <th>Row ID</th>\n",
       "      <th>Order ID</th>\n",
       "      <th>Order Date</th>\n",
       "      <th>Ship Date</th>\n",
       "      <th>Ship Mode</th>\n",
       "      <th>Customer ID</th>\n",
       "      <th>Customer Name</th>\n",
       "      <th>Segment</th>\n",
       "      <th>Country/Region</th>\n",
       "      <th>City</th>\n",
       "      <th>...</th>\n",
       "      <th>Region</th>\n",
       "      <th>Product ID</th>\n",
       "      <th>Category</th>\n",
       "      <th>Sub-Category</th>\n",
       "      <th>Product Name</th>\n",
       "      <th>Sales</th>\n",
       "      <th>Quantity</th>\n",
       "      <th>Discount</th>\n",
       "      <th>Profit</th>\n",
       "      <th>Target Profit</th>\n",
       "    </tr>\n",
       "  </thead>\n",
       "  <tbody>\n",
       "    <tr>\n",
       "      <th>0</th>\n",
       "      <td>1</td>\n",
       "      <td>CA-2020-152156</td>\n",
       "      <td>2022-11-08</td>\n",
       "      <td>2020-11-11</td>\n",
       "      <td>Second Class</td>\n",
       "      <td>CG-12520</td>\n",
       "      <td>Claire Gute</td>\n",
       "      <td>Consumer</td>\n",
       "      <td>United States</td>\n",
       "      <td>Henderson</td>\n",
       "      <td>...</td>\n",
       "      <td>South</td>\n",
       "      <td>FUR-BO-10001798</td>\n",
       "      <td>Furniture</td>\n",
       "      <td>Bookcases</td>\n",
       "      <td>Bush Somerset Collection Bookcase</td>\n",
       "      <td>261.96</td>\n",
       "      <td>2</td>\n",
       "      <td>0.0</td>\n",
       "      <td>41.9136</td>\n",
       "      <td>50.280271</td>\n",
       "    </tr>\n",
       "    <tr>\n",
       "      <th>1</th>\n",
       "      <td>2</td>\n",
       "      <td>CA-2020-152156</td>\n",
       "      <td>2022-11-08</td>\n",
       "      <td>2020-11-11</td>\n",
       "      <td>Second Class</td>\n",
       "      <td>CG-12520</td>\n",
       "      <td>Claire Gute</td>\n",
       "      <td>Consumer</td>\n",
       "      <td>United States</td>\n",
       "      <td>Henderson</td>\n",
       "      <td>...</td>\n",
       "      <td>South</td>\n",
       "      <td>FUR-CH-10000454</td>\n",
       "      <td>Furniture</td>\n",
       "      <td>Chairs</td>\n",
       "      <td>Hon Deluxe Fabric Upholstered Stacking Chairs,...</td>\n",
       "      <td>731.94</td>\n",
       "      <td>3</td>\n",
       "      <td>0.0</td>\n",
       "      <td>219.5820</td>\n",
       "      <td>223.835267</td>\n",
       "    </tr>\n",
       "    <tr>\n",
       "      <th>2</th>\n",
       "      <td>3</td>\n",
       "      <td>CA-2020-138688</td>\n",
       "      <td>2022-06-12</td>\n",
       "      <td>2020-06-16</td>\n",
       "      <td>Second Class</td>\n",
       "      <td>DV-13045</td>\n",
       "      <td>Darrin Van Huff</td>\n",
       "      <td>Corporate</td>\n",
       "      <td>United States</td>\n",
       "      <td>Los Angeles</td>\n",
       "      <td>...</td>\n",
       "      <td>West</td>\n",
       "      <td>OFF-LA-10000240</td>\n",
       "      <td>Office Supplies</td>\n",
       "      <td>Labels</td>\n",
       "      <td>Self-Adhesive Address Labels for Typewriters b...</td>\n",
       "      <td>14.62</td>\n",
       "      <td>2</td>\n",
       "      <td>0.0</td>\n",
       "      <td>6.8714</td>\n",
       "      <td>6.028207</td>\n",
       "    </tr>\n",
       "  </tbody>\n",
       "</table>\n",
       "<p>3 rows × 22 columns</p>\n",
       "</div>"
      ],
      "text/plain": [
       "   Row ID        Order ID Order Date  Ship Date     Ship Mode Customer ID   \n",
       "0       1  CA-2020-152156 2022-11-08 2020-11-11  Second Class    CG-12520  \\\n",
       "1       2  CA-2020-152156 2022-11-08 2020-11-11  Second Class    CG-12520   \n",
       "2       3  CA-2020-138688 2022-06-12 2020-06-16  Second Class    DV-13045   \n",
       "\n",
       "     Customer Name    Segment Country/Region         City  ... Region   \n",
       "0      Claire Gute   Consumer  United States    Henderson  ...  South  \\\n",
       "1      Claire Gute   Consumer  United States    Henderson  ...  South   \n",
       "2  Darrin Van Huff  Corporate  United States  Los Angeles  ...   West   \n",
       "\n",
       "        Product ID         Category Sub-Category   \n",
       "0  FUR-BO-10001798        Furniture    Bookcases  \\\n",
       "1  FUR-CH-10000454        Furniture       Chairs   \n",
       "2  OFF-LA-10000240  Office Supplies       Labels   \n",
       "\n",
       "                                        Product Name   Sales Quantity   \n",
       "0                  Bush Somerset Collection Bookcase  261.96        2  \\\n",
       "1  Hon Deluxe Fabric Upholstered Stacking Chairs,...  731.94        3   \n",
       "2  Self-Adhesive Address Labels for Typewriters b...   14.62        2   \n",
       "\n",
       "   Discount    Profit  Target Profit  \n",
       "0       0.0   41.9136      50.280271  \n",
       "1       0.0  219.5820     223.835267  \n",
       "2       0.0    6.8714       6.028207  \n",
       "\n",
       "[3 rows x 22 columns]"
      ]
     },
     "execution_count": 4,
     "metadata": {},
     "output_type": "execute_result"
    }
   ],
   "source": [
    "data.head(3)"
   ]
  },
  {
   "cell_type": "code",
   "execution_count": 5,
   "id": "412dd36b-30ae-4a8e-b338-119d598d0d14",
   "metadata": {
    "tags": []
   },
   "outputs": [
    {
     "data": {
      "text/html": [
       "<div>\n",
       "<style scoped>\n",
       "    .dataframe tbody tr th:only-of-type {\n",
       "        vertical-align: middle;\n",
       "    }\n",
       "\n",
       "    .dataframe tbody tr th {\n",
       "        vertical-align: top;\n",
       "    }\n",
       "\n",
       "    .dataframe thead th {\n",
       "        text-align: right;\n",
       "    }\n",
       "</style>\n",
       "<table border=\"1\" class=\"dataframe\">\n",
       "  <thead>\n",
       "    <tr style=\"text-align: right;\">\n",
       "      <th></th>\n",
       "      <th>Row ID</th>\n",
       "      <th>Postal Code</th>\n",
       "      <th>Sales</th>\n",
       "      <th>Quantity</th>\n",
       "      <th>Discount</th>\n",
       "      <th>Profit</th>\n",
       "      <th>Target Profit</th>\n",
       "    </tr>\n",
       "    <tr>\n",
       "      <th>Order Date</th>\n",
       "      <th></th>\n",
       "      <th></th>\n",
       "      <th></th>\n",
       "      <th></th>\n",
       "      <th></th>\n",
       "      <th></th>\n",
       "      <th></th>\n",
       "    </tr>\n",
       "  </thead>\n",
       "  <tbody>\n",
       "    <tr>\n",
       "      <th>1</th>\n",
       "      <td>847373</td>\n",
       "      <td>9309959.0</td>\n",
       "      <td>43971.3740</td>\n",
       "      <td>597</td>\n",
       "      <td>25.00</td>\n",
       "      <td>7140.4391</td>\n",
       "      <td>6742.347947</td>\n",
       "    </tr>\n",
       "    <tr>\n",
       "      <th>2</th>\n",
       "      <td>593504</td>\n",
       "      <td>6793677.0</td>\n",
       "      <td>20301.1334</td>\n",
       "      <td>363</td>\n",
       "      <td>19.47</td>\n",
       "      <td>1613.8720</td>\n",
       "      <td>1431.248121</td>\n",
       "    </tr>\n",
       "    <tr>\n",
       "      <th>3</th>\n",
       "      <td>1293993</td>\n",
       "      <td>13934376.0</td>\n",
       "      <td>58872.3528</td>\n",
       "      <td>885</td>\n",
       "      <td>31.14</td>\n",
       "      <td>14751.8915</td>\n",
       "      <td>14653.733759</td>\n",
       "    </tr>\n",
       "    <tr>\n",
       "      <th>4</th>\n",
       "      <td>948011</td>\n",
       "      <td>10137966.0</td>\n",
       "      <td>36521.5361</td>\n",
       "      <td>733</td>\n",
       "      <td>39.47</td>\n",
       "      <td>933.2900</td>\n",
       "      <td>1519.050463</td>\n",
       "    </tr>\n",
       "    <tr>\n",
       "      <th>5</th>\n",
       "      <td>1346912</td>\n",
       "      <td>14187724.0</td>\n",
       "      <td>44261.1102</td>\n",
       "      <td>887</td>\n",
       "      <td>36.89</td>\n",
       "      <td>6342.5828</td>\n",
       "      <td>5745.763088</td>\n",
       "    </tr>\n",
       "    <tr>\n",
       "      <th>6</th>\n",
       "      <td>1171681</td>\n",
       "      <td>13582238.0</td>\n",
       "      <td>52981.7257</td>\n",
       "      <td>931</td>\n",
       "      <td>42.12</td>\n",
       "      <td>8223.3357</td>\n",
       "      <td>8330.637592</td>\n",
       "    </tr>\n",
       "    <tr>\n",
       "      <th>7</th>\n",
       "      <td>1183701</td>\n",
       "      <td>11905252.0</td>\n",
       "      <td>45264.4160</td>\n",
       "      <td>840</td>\n",
       "      <td>31.65</td>\n",
       "      <td>6952.6212</td>\n",
       "      <td>7617.256714</td>\n",
       "    </tr>\n",
       "    <tr>\n",
       "      <th>8</th>\n",
       "      <td>1141105</td>\n",
       "      <td>13521406.0</td>\n",
       "      <td>63120.8880</td>\n",
       "      <td>884</td>\n",
       "      <td>31.30</td>\n",
       "      <td>9040.9557</td>\n",
       "      <td>8804.249056</td>\n",
       "    </tr>\n",
       "    <tr>\n",
       "      <th>9</th>\n",
       "      <td>2358436</td>\n",
       "      <td>25163354.0</td>\n",
       "      <td>87866.6520</td>\n",
       "      <td>1660</td>\n",
       "      <td>67.65</td>\n",
       "      <td>10991.5556</td>\n",
       "      <td>10915.864868</td>\n",
       "    </tr>\n",
       "    <tr>\n",
       "      <th>10</th>\n",
       "      <td>1412854</td>\n",
       "      <td>16610947.0</td>\n",
       "      <td>77776.9232</td>\n",
       "      <td>1133</td>\n",
       "      <td>51.92</td>\n",
       "      <td>9275.2755</td>\n",
       "      <td>8258.481692</td>\n",
       "    </tr>\n",
       "    <tr>\n",
       "      <th>11</th>\n",
       "      <td>2300116</td>\n",
       "      <td>25327074.0</td>\n",
       "      <td>118447.8250</td>\n",
       "      <td>1840</td>\n",
       "      <td>73.89</td>\n",
       "      <td>9690.1037</td>\n",
       "      <td>10390.001244</td>\n",
       "    </tr>\n",
       "    <tr>\n",
       "      <th>12</th>\n",
       "      <td>2250814</td>\n",
       "      <td>25588725.0</td>\n",
       "      <td>83829.3188</td>\n",
       "      <td>1723</td>\n",
       "      <td>67.72</td>\n",
       "      <td>8483.3468</td>\n",
       "      <td>7726.631625</td>\n",
       "    </tr>\n",
       "  </tbody>\n",
       "</table>\n",
       "</div>"
      ],
      "text/plain": [
       "             Row ID  Postal Code        Sales  Quantity  Discount      Profit   \n",
       "Order Date                                                                      \n",
       "1            847373    9309959.0   43971.3740       597     25.00   7140.4391  \\\n",
       "2            593504    6793677.0   20301.1334       363     19.47   1613.8720   \n",
       "3           1293993   13934376.0   58872.3528       885     31.14  14751.8915   \n",
       "4            948011   10137966.0   36521.5361       733     39.47    933.2900   \n",
       "5           1346912   14187724.0   44261.1102       887     36.89   6342.5828   \n",
       "6           1171681   13582238.0   52981.7257       931     42.12   8223.3357   \n",
       "7           1183701   11905252.0   45264.4160       840     31.65   6952.6212   \n",
       "8           1141105   13521406.0   63120.8880       884     31.30   9040.9557   \n",
       "9           2358436   25163354.0   87866.6520      1660     67.65  10991.5556   \n",
       "10          1412854   16610947.0   77776.9232      1133     51.92   9275.2755   \n",
       "11          2300116   25327074.0  118447.8250      1840     73.89   9690.1037   \n",
       "12          2250814   25588725.0   83829.3188      1723     67.72   8483.3468   \n",
       "\n",
       "            Target Profit  \n",
       "Order Date                 \n",
       "1             6742.347947  \n",
       "2             1431.248121  \n",
       "3            14653.733759  \n",
       "4             1519.050463  \n",
       "5             5745.763088  \n",
       "6             8330.637592  \n",
       "7             7617.256714  \n",
       "8             8804.249056  \n",
       "9            10915.864868  \n",
       "10            8258.481692  \n",
       "11           10390.001244  \n",
       "12            7726.631625  "
      ]
     },
     "execution_count": 5,
     "metadata": {},
     "output_type": "execute_result"
    }
   ],
   "source": [
    "data_grouped = data[data['Order Date'].dt.year==2023].groupby(data['Order Date'].dt.month).sum(numeric_only=True)\n",
    "data_grouped"
   ]
  },
  {
   "cell_type": "code",
   "execution_count": 6,
   "id": "e6651579-6798-4df6-98d7-891d230e4c31",
   "metadata": {
    "tags": []
   },
   "outputs": [
    {
     "data": {
      "image/png": "[encoded data removed]",
      "text/plain": [
       "<Figure size 1000x500 with 1 Axes>"
      ]
     },
     "metadata": {},
     "output_type": "display_data"
    }
   ],
   "source": [
    "import matplotlib.pyplot as plt\n",
    "import matplotlib.collections as mcollections\n",
    "import matplotlib.ticker as mticker\n",
    "\n",
    "tolerence = 0.05\n",
    "lower = data_grouped['Target Profit'] * (1 - tolerence)\n",
    "upper = data_grouped['Target Profit'] * (1 + tolerence)\n",
    "colors = ['#91B3D7' if p > u else ('#E15759' if p < l else '#BAB0AC')\n",
    "          for p, l, u in zip(data_grouped['Profit'], lower, upper)]\n",
    "labels = ['Above Target' if c  == '#91B3D7' else ('Below Target' if c == '#E15759' else 'On Target')\n",
    "          for c in colors]\n",
    "# Add '_' to the duplicate label to hide it\n",
    "labels_unique = []\n",
    "for label in labels:\n",
    "    if label in labels_unique:\n",
    "        labels_unique.append('_' + label)\n",
    "    else:\n",
    "        labels_unique.append(label)\n",
    "\n",
    "fig, ax = plt.subplots(figsize=(10, 5))\n",
    "\n",
    "ax.bar(data_grouped.index, data_grouped['Profit'], color=colors, label=labels_unique)\n",
    "ax.legend(ncols=3, frameon=False, \n",
    "         loc='lower left', bbox_to_anchor=(0, 1))\n",
    "\n",
    "# Add target profit lines\n",
    "lines = [[(x-0.5,y),(x+0.5,y)] for x, y in zip(data_grouped.index, data_grouped['Target Profit'])]\n",
    "line_artist = mcollections.LineCollection(lines, colors='gray', alpha=0.6)\n",
    "ax.add_collection(line_artist)\n",
    "\n",
    "# Add tolerence rectangle\n",
    "ax.bar(data_grouped.index, upper-lower, bottom=lower, width=1, color='gray', alpha=0.3, zorder=0)\n",
    "\n",
    "# Style the figure\n",
    "ax.xaxis.set_ticks(data_grouped.index, labels=['Jan', 'Feb', 'Mar', 'Apr', 'May', 'Jun',\n",
    "                                               'Jul', 'Aug', 'Sep', 'Oct', 'Nov', 'Dec'])\n",
    "ax.yaxis.set_major_formatter(mticker.FuncFormatter(lambda x, pos: f'{x/1000:.0f}K'))\n",
    "\n",
    "ax.spines[:].set_visible(False)\n",
    "ax.tick_params(left=False, bottom=False)\n",
    "ax.yaxis.grid(True, alpha=0.4)\n",
    "ax.yaxis.set_zorder(0) # To set the zorder of gridlines, we should set the zorder of the corresponding axis.\n",
    "\n",
    "# Add Title\n",
    "xy = (-0.05, 1.05)\n",
    "ax.annotate('#WOW2023 Week 21', xy=xy, xytext=(0, 15), \n",
    "            xycoords='axes fraction', textcoords='offset points',\n",
    "            ha='left', va='bottom', fontsize=14, fontweight='bold')\n",
    "ax.annotate(f' | 2023 Profit vs Target (with {tolerence:.0%} tolerance)', xy=xy, xytext=(14*12, 15),\n",
    "            xycoords='axes fraction', textcoords='offset points',\n",
    "            ha='left', va='bottom', fontsize=14)\n",
    "\n",
    "ax.annotate('Workout Wednesday Week 21 | Challenge by L-ZY @LZY_CHN', xy=(1, 0), xytext=(0, -26),\n",
    "            xycoords='axes fraction', textcoords='offset points',\n",
    "            ha='right', va='top', fontsize=8, alpha=0.6);"
   ]
  },
  {
   "cell_type": "code",
   "execution_count": 10,
   "id": "d036f108-d3fc-4ff7-a2ca-ab1263cda255",
   "metadata": {
    "tags": []
   },
   "outputs": [
    {
     "data": {
      "application/vnd.plotly.v1+json": {
       "config": {
        "plotlyServerURL": "https://plot.ly"
       },
       "data": [
        {
         "alignmentgroup": "True",
         "customdata": [
          [
           "Jan",
           7140.4391000000005,
           0.05904340085556197,
           6742.347947432092,
           "Above Target"
          ],
          [
           "Feb",
           1613.8719999999994,
           0.12759763790213563,
           1431.2481205641436,
           "Above Target"
          ],
          [
           "May",
           6342.582799999999,
           0.10387127047805923,
           5745.763088166235,
           "Above Target"
          ],
          [
           "Oct",
           9275.2755,
           0.12312115539783783,
           8258.481692221765,
           "Above Target"
          ],
          [
           "Dec",
           8483.3468,
           0.09793597157762471,
           7726.63162480256,
           "Above Target"
          ]
         ],
         "hoverlabel": {
          "bgcolor": "white"
         },
         "hovertemplate": "<b>%{customdata[0]} 2023</b><br>Profit: <b>$%{customdata[1]:,.0f}</b><br>%{customdata[2]:.0%} difference from Target ($%{customdata[3]:,.0f})<extra></extra>",
         "legendgroup": "Above Target",
         "marker": {
          "color": "#91B3D7",
          "pattern": {
           "shape": ""
          }
         },
         "name": "Above Target",
         "offsetgroup": "Above Target",
         "orientation": "v",
         "showlegend": true,
         "textposition": "auto",
         "type": "bar",
         "x": [
          1,
          2,
          5,
          10,
          12
         ],
         "xaxis": "x",
         "y": [
          7140.4391000000005,
          1613.8719999999994,
          6342.582799999999,
          9275.2755,
          8483.3468
         ],
         "yaxis": "y"
        },
        {
         "alignmentgroup": "True",
         "customdata": [
          [
           "Mar",
           14751.8915,
           0.006698479901463374,
           14653.733758934382,
           "On Target"
          ],
          [
           "Jun",
           8223.3357,
           -0.012880393710832851,
           8330.63759204784,
           "On Target"
          ],
          [
           "Aug",
           9040.9557,
           0.02688550068649195,
           8804.249055961891,
           "On Target"
          ],
          [
           "Sep",
           10991.5556,
           0.006934011453682011,
           10915.864867978591,
           "On Target"
          ]
         ],
         "hoverlabel": {
          "bgcolor": "white"
         },
         "hovertemplate": "<b>%{customdata[0]} 2023</b><br>Profit: <b>$%{customdata[1]:,.0f}</b><br>%{customdata[2]:.0%} difference from Target ($%{customdata[3]:,.0f})<extra></extra>",
         "legendgroup": "On Target",
         "marker": {
          "color": "#BAB0AC",
          "pattern": {
           "shape": ""
          }
         },
         "name": "On Target",
         "offsetgroup": "On Target",
         "orientation": "v",
         "showlegend": true,
         "textposition": "auto",
         "type": "bar",
         "x": [
          3,
          6,
          8,
          9
         ],
         "xaxis": "x",
         "y": [
          14751.8915,
          8223.3357,
          9040.9557,
          10991.5556
         ],
         "yaxis": "y"
        },
        {
         "alignmentgroup": "True",
         "customdata": [
          [
           "Apr",
           933.2899999999996,
           -0.38560961438405866,
           1519.0504634351555,
           "Below Target"
          ],
          [
           "Jul",
           6952.6212,
           -0.0872539207411406,
           7617.256713548918,
           "Below Target"
          ],
          [
           "Nov",
           9690.1037,
           -0.06736260446479675,
           10390.00124420192,
           "Below Target"
          ]
         ],
         "hoverlabel": {
          "bgcolor": "white"
         },
         "hovertemplate": "<b>%{customdata[0]} 2023</b><br>Profit: <b>$%{customdata[1]:,.0f}</b><br>%{customdata[2]:.0%} difference from Target ($%{customdata[3]:,.0f})<extra></extra>",
         "legendgroup": "Below Target",
         "marker": {
          "color": "#E15759",
          "pattern": {
           "shape": ""
          }
         },
         "name": "Below Target",
         "offsetgroup": "Below Target",
         "orientation": "v",
         "showlegend": true,
         "textposition": "auto",
         "type": "bar",
         "x": [
          4,
          7,
          11
         ],
         "xaxis": "x",
         "y": [
          933.2899999999996,
          6952.6212,
          9690.1037
         ],
         "yaxis": "y"
        }
       ],
       "layout": {
        "annotations": [
         {
          "font": {
           "color": "gray",
           "size": 10
          },
          "opacity": 0.8,
          "showarrow": false,
          "text": "Workout Wednesday Week 21 | Challenge by L-ZY @LZY_CHN",
          "x": 1,
          "xanchor": "right",
          "xref": "paper",
          "y": 0,
          "yanchor": "top",
          "yref": "paper",
          "yshift": -20
         }
        ],
        "barmode": "relative",
        "height": 600,
        "legend": {
         "orientation": "h",
         "title": {
          "text": ""
         },
         "tracegroupgap": 0,
         "x": 0,
         "xanchor": "left",
         "y": 1,
         "yanchor": "bottom"
        },
        "margin": {
         "t": 60
        },
        "shapes": [
         {
          "line": {
           "color": "gray"
          },
          "type": "line",
          "x0": 0.6,
          "x1": 1.4,
          "y0": 6742.347947432092,
          "y1": 6742.347947432092
         },
         {
          "fillcolor": "gray",
          "layer": "below",
          "line": {
           "color": "gray"
          },
          "opacity": 0.3,
          "type": "rect",
          "x0": 0.5,
          "x1": 1.5,
          "y0": 6405.230550060487,
          "y1": 7079.465344803697
         },
         {
          "line": {
           "color": "gray"
          },
          "type": "line",
          "x0": 1.6,
          "x1": 2.4,
          "y0": 1431.2481205641436,
          "y1": 1431.2481205641436
         },
         {
          "fillcolor": "gray",
          "layer": "below",
          "line": {
           "color": "gray"
          },
          "opacity": 0.3,
          "type": "rect",
          "x0": 1.5,
          "x1": 2.5,
          "y0": 1359.6857145359363,
          "y1": 1502.810526592351
         },
         {
          "line": {
           "color": "gray"
          },
          "type": "line",
          "x0": 2.6,
          "x1": 3.4,
          "y0": 14653.733758934382,
          "y1": 14653.733758934382
         },
         {
          "fillcolor": "gray",
          "layer": "below",
          "line": {
           "color": "gray"
          },
          "opacity": 0.3,
          "type": "rect",
          "x0": 2.5,
          "x1": 3.5,
          "y0": 13921.047070987663,
          "y1": 15386.420446881102
         },
         {
          "line": {
           "color": "gray"
          },
          "type": "line",
          "x0": 3.6,
          "x1": 4.4,
          "y0": 1519.0504634351555,
          "y1": 1519.0504634351555
         },
         {
          "fillcolor": "gray",
          "layer": "below",
          "line": {
           "color": "gray"
          },
          "opacity": 0.3,
          "type": "rect",
          "x0": 3.5,
          "x1": 4.5,
          "y0": 1443.0979402633977,
          "y1": 1595.0029866069133
         },
         {
          "line": {
           "color": "gray"
          },
          "type": "line",
          "x0": 4.6,
          "x1": 5.4,
          "y0": 5745.763088166235,
          "y1": 5745.763088166235
         },
         {
          "fillcolor": "gray",
          "layer": "below",
          "line": {
           "color": "gray"
          },
          "opacity": 0.3,
          "type": "rect",
          "x0": 4.5,
          "x1": 5.5,
          "y0": 5458.474933757923,
          "y1": 6033.051242574547
         },
         {
          "line": {
           "color": "gray"
          },
          "type": "line",
          "x0": 5.6,
          "x1": 6.4,
          "y0": 8330.63759204784,
          "y1": 8330.63759204784
         },
         {
          "fillcolor": "gray",
          "layer": "below",
          "line": {
           "color": "gray"
          },
          "opacity": 0.3,
          "type": "rect",
          "x0": 5.5,
          "x1": 6.5,
          "y0": 7914.105712445448,
          "y1": 8747.169471650233
         },
         {
          "line": {
           "color": "gray"
          },
          "type": "line",
          "x0": 6.6,
          "x1": 7.4,
          "y0": 7617.256713548918,
          "y1": 7617.256713548918
         },
         {
          "fillcolor": "gray",
          "layer": "below",
          "line": {
           "color": "gray"
          },
          "opacity": 0.3,
          "type": "rect",
          "x0": 6.5,
          "x1": 7.5,
          "y0": 7236.393877871472,
          "y1": 7998.119549226364
         },
         {
          "line": {
           "color": "gray"
          },
          "type": "line",
          "x0": 7.6,
          "x1": 8.4,
          "y0": 8804.249055961891,
          "y1": 8804.249055961891
         },
         {
          "fillcolor": "gray",
          "layer": "below",
          "line": {
           "color": "gray"
          },
          "opacity": 0.3,
          "type": "rect",
          "x0": 7.5,
          "x1": 8.5,
          "y0": 8364.036603163797,
          "y1": 9244.461508759985
         },
         {
          "line": {
           "color": "gray"
          },
          "type": "line",
          "x0": 8.6,
          "x1": 9.4,
          "y0": 10915.864867978591,
          "y1": 10915.864867978591
         },
         {
          "fillcolor": "gray",
          "layer": "below",
          "line": {
           "color": "gray"
          },
          "opacity": 0.3,
          "type": "rect",
          "x0": 8.5,
          "x1": 9.5,
          "y0": 10370.071624579661,
          "y1": 11461.658111377521
         },
         {
          "line": {
           "color": "gray"
          },
          "type": "line",
          "x0": 9.6,
          "x1": 10.4,
          "y0": 8258.481692221765,
          "y1": 8258.481692221765
         },
         {
          "fillcolor": "gray",
          "layer": "below",
          "line": {
           "color": "gray"
          },
          "opacity": 0.3,
          "type": "rect",
          "x0": 9.5,
          "x1": 10.5,
          "y0": 7845.557607610676,
          "y1": 8671.405776832853
         },
         {
          "line": {
           "color": "gray"
          },
          "type": "line",
          "x0": 10.6,
          "x1": 11.4,
          "y0": 10390.00124420192,
          "y1": 10390.00124420192
         },
         {
          "fillcolor": "gray",
          "layer": "below",
          "line": {
           "color": "gray"
          },
          "opacity": 0.3,
          "type": "rect",
          "x0": 10.5,
          "x1": 11.5,
          "y0": 9870.501181991824,
          "y1": 10909.501306412016
         },
         {
          "line": {
           "color": "gray"
          },
          "type": "line",
          "x0": 11.6,
          "x1": 12.4,
          "y0": 7726.63162480256,
          "y1": 7726.63162480256
         },
         {
          "fillcolor": "gray",
          "layer": "below",
          "line": {
           "color": "gray"
          },
          "opacity": 0.3,
          "type": "rect",
          "x0": 11.5,
          "x1": 12.5,
          "y0": 7340.300043562432,
          "y1": 8112.9632060426875
         }
        ],
        "template": {
         "data": {
          "bar": [
           {
            "error_x": {
             "color": "#2a3f5f"
            },
            "error_y": {
             "color": "#2a3f5f"
            },
            "marker": {
             "line": {
              "color": "#E5ECF6",
              "width": 0.5
             },
             "pattern": {
              "fillmode": "overlay",
              "size": 10,
              "solidity": 0.2
             }
            },
            "type": "bar"
           }
          ],
          "barpolar": [
           {
            "marker": {
             "line": {
              "color": "#E5ECF6",
              "width": 0.5
             },
             "pattern": {
              "fillmode": "overlay",
              "size": 10,
              "solidity": 0.2
             }
            },
            "type": "barpolar"
           }
          ],
          "carpet": [
           {
            "aaxis": {
             "endlinecolor": "#2a3f5f",
             "gridcolor": "white",
             "linecolor": "white",
             "minorgridcolor": "white",
             "startlinecolor": "#2a3f5f"
            },
            "baxis": {
             "endlinecolor": "#2a3f5f",
             "gridcolor": "white",
             "linecolor": "white",
             "minorgridcolor": "white",
             "startlinecolor": "#2a3f5f"
            },
            "type": "carpet"
           }
          ],
          "choropleth": [
           {
            "colorbar": {
             "outlinewidth": 0,
             "ticks": ""
            },
            "type": "choropleth"
           }
          ],
          "contour": [
           {
            "colorbar": {
             "outlinewidth": 0,
             "ticks": ""
            },
            "colorscale": [
             [
              0,
              "#0d0887"
             ],
             [
              0.1111111111111111,
              "#46039f"
             ],
             [
              0.2222222222222222,
              "#7201a8"
             ],
             [
              0.3333333333333333,
              "#9c179e"
             ],
             [
              0.4444444444444444,
              "#bd3786"
             ],
             [
              0.5555555555555556,
              "#d8576b"
             ],
             [
              0.6666666666666666,
              "#ed7953"
             ],
             [
              0.7777777777777778,
              "#fb9f3a"
             ],
             [
              0.8888888888888888,
              "#fdca26"
             ],
             [
              1,
              "#f0f921"
             ]
            ],
            "type": "contour"
           }
          ],
          "contourcarpet": [
           {
            "colorbar": {
             "outlinewidth": 0,
             "ticks": ""
            },
            "type": "contourcarpet"
           }
          ],
          "heatmap": [
           {
            "colorbar": {
             "outlinewidth": 0,
             "ticks": ""
            },
            "colorscale": [
             [
              0,
              "#0d0887"
             ],
             [
              0.1111111111111111,
              "#46039f"
             ],
             [
              0.2222222222222222,
              "#7201a8"
             ],
             [
              0.3333333333333333,
              "#9c179e"
             ],
             [
              0.4444444444444444,
              "#bd3786"
             ],
             [
              0.5555555555555556,
              "#d8576b"
             ],
             [
              0.6666666666666666,
              "#ed7953"
             ],
             [
              0.7777777777777778,
              "#fb9f3a"
             ],
             [
              0.8888888888888888,
              "#fdca26"
             ],
             [
              1,
              "#f0f921"
             ]
            ],
            "type": "heatmap"
           }
          ],
          "heatmapgl": [
           {
            "colorbar": {
             "outlinewidth": 0,
             "ticks": ""
            },
            "colorscale": [
             [
              0,
              "#0d0887"
             ],
             [
              0.1111111111111111,
              "#46039f"
             ],
             [
              0.2222222222222222,
              "#7201a8"
             ],
             [
              0.3333333333333333,
              "#9c179e"
             ],
             [
              0.4444444444444444,
              "#bd3786"
             ],
             [
              0.5555555555555556,
              "#d8576b"
             ],
             [
              0.6666666666666666,
              "#ed7953"
             ],
             [
              0.7777777777777778,
              "#fb9f3a"
             ],
             [
              0.8888888888888888,
              "#fdca26"
             ],
             [
              1,
              "#f0f921"
             ]
            ],
            "type": "heatmapgl"
           }
          ],
          "histogram": [
           {
            "marker": {
             "pattern": {
              "fillmode": "overlay",
              "size": 10,
              "solidity": 0.2
             }
            },
            "type": "histogram"
           }
          ],
          "histogram2d": [
           {
            "colorbar": {
             "outlinewidth": 0,
             "ticks": ""
            },
            "colorscale": [
             [
              0,
              "#0d0887"
             ],
             [
              0.1111111111111111,
              "#46039f"
             ],
             [
              0.2222222222222222,
              "#7201a8"
             ],
             [
              0.3333333333333333,
              "#9c179e"
             ],
             [
              0.4444444444444444,
              "#bd3786"
             ],
             [
              0.5555555555555556,
              "#d8576b"
             ],
             [
              0.6666666666666666,
              "#ed7953"
             ],
             [
              0.7777777777777778,
              "#fb9f3a"
             ],
             [
              0.8888888888888888,
              "#fdca26"
             ],
             [
              1,
              "#f0f921"
             ]
            ],
            "type": "histogram2d"
           }
          ],
          "histogram2dcontour": [
           {
            "colorbar": {
             "outlinewidth": 0,
             "ticks": ""
            },
            "colorscale": [
             [
              0,
              "#0d0887"
             ],
             [
              0.1111111111111111,
              "#46039f"
             ],
             [
              0.2222222222222222,
              "#7201a8"
             ],
             [
              0.3333333333333333,
              "#9c179e"
             ],
             [
              0.4444444444444444,
              "#bd3786"
             ],
             [
              0.5555555555555556,
              "#d8576b"
             ],
             [
              0.6666666666666666,
              "#ed7953"
             ],
             [
              0.7777777777777778,
              "#fb9f3a"
             ],
             [
              0.8888888888888888,
              "#fdca26"
             ],
             [
              1,
              "#f0f921"
             ]
            ],
            "type": "histogram2dcontour"
           }
          ],
          "mesh3d": [
           {
            "colorbar": {
             "outlinewidth": 0,
             "ticks": ""
            },
            "type": "mesh3d"
           }
          ],
          "parcoords": [
           {
            "line": {
             "colorbar": {
              "outlinewidth": 0,
              "ticks": ""
             }
            },
            "type": "parcoords"
           }
          ],
          "pie": [
           {
            "automargin": true,
            "type": "pie"
           }
          ],
          "scatter": [
           {
            "fillpattern": {
             "fillmode": "overlay",
             "size": 10,
             "solidity": 0.2
            },
            "type": "scatter"
           }
          ],
          "scatter3d": [
           {
            "line": {
             "colorbar": {
              "outlinewidth": 0,
              "ticks": ""
             }
            },
            "marker": {
             "colorbar": {
              "outlinewidth": 0,
              "ticks": ""
             }
            },
            "type": "scatter3d"
           }
          ],
          "scattercarpet": [
           {
            "marker": {
             "colorbar": {
              "outlinewidth": 0,
              "ticks": ""
             }
            },
            "type": "scattercarpet"
           }
          ],
          "scattergeo": [
           {
            "marker": {
             "colorbar": {
              "outlinewidth": 0,
              "ticks": ""
             }
            },
            "type": "scattergeo"
           }
          ],
          "scattergl": [
           {
            "marker": {
             "colorbar": {
              "outlinewidth": 0,
              "ticks": ""
             }
            },
            "type": "scattergl"
           }
          ],
          "scattermapbox": [
           {
            "marker": {
             "colorbar": {
              "outlinewidth": 0,
              "ticks": ""
             }
            },
            "type": "scattermapbox"
           }
          ],
          "scatterpolar": [
           {
            "marker": {
             "colorbar": {
              "outlinewidth": 0,
              "ticks": ""
             }
            },
            "type": "scatterpolar"
           }
          ],
          "scatterpolargl": [
           {
            "marker": {
             "colorbar": {
              "outlinewidth": 0,
              "ticks": ""
             }
            },
            "type": "scatterpolargl"
           }
          ],
          "scatterternary": [
           {
            "marker": {
             "colorbar": {
              "outlinewidth": 0,
              "ticks": ""
             }
            },
            "type": "scatterternary"
           }
          ],
          "surface": [
           {
            "colorbar": {
             "outlinewidth": 0,
             "ticks": ""
            },
            "colorscale": [
             [
              0,
              "#0d0887"
             ],
             [
              0.1111111111111111,
              "#46039f"
             ],
             [
              0.2222222222222222,
              "#7201a8"
             ],
             [
              0.3333333333333333,
              "#9c179e"
             ],
             [
              0.4444444444444444,
              "#bd3786"
             ],
             [
              0.5555555555555556,
              "#d8576b"
             ],
             [
              0.6666666666666666,
              "#ed7953"
             ],
             [
              0.7777777777777778,
              "#fb9f3a"
             ],
             [
              0.8888888888888888,
              "#fdca26"
             ],
             [
              1,
              "#f0f921"
             ]
            ],
            "type": "surface"
           }
          ],
          "table": [
           {
            "cells": {
             "fill": {
              "color": "#EBF0F8"
             },
             "line": {
              "color": "white"
             }
            },
            "header": {
             "fill": {
              "color": "#C8D4E3"
             },
             "line": {
              "color": "white"
             }
            },
            "type": "table"
           }
          ]
         },
         "layout": {
          "annotationdefaults": {
           "arrowcolor": "#2a3f5f",
           "arrowhead": 0,
           "arrowwidth": 1
          },
          "autotypenumbers": "strict",
          "coloraxis": {
           "colorbar": {
            "outlinewidth": 0,
            "ticks": ""
           }
          },
          "colorscale": {
           "diverging": [
            [
             0,
             "#8e0152"
            ],
            [
             0.1,
             "#c51b7d"
            ],
            [
             0.2,
             "#de77ae"
            ],
            [
             0.3,
             "#f1b6da"
            ],
            [
             0.4,
             "#fde0ef"
            ],
            [
             0.5,
             "#f7f7f7"
            ],
            [
             0.6,
             "#e6f5d0"
            ],
            [
             0.7,
             "#b8e186"
            ],
            [
             0.8,
             "#7fbc41"
            ],
            [
             0.9,
             "#4d9221"
            ],
            [
             1,
             "#276419"
            ]
           ],
           "sequential": [
            [
             0,
             "#0d0887"
            ],
            [
             0.1111111111111111,
             "#46039f"
            ],
            [
             0.2222222222222222,
             "#7201a8"
            ],
            [
             0.3333333333333333,
             "#9c179e"
            ],
            [
             0.4444444444444444,
             "#bd3786"
            ],
            [
             0.5555555555555556,
             "#d8576b"
            ],
            [
             0.6666666666666666,
             "#ed7953"
            ],
            [
             0.7777777777777778,
             "#fb9f3a"
            ],
            [
             0.8888888888888888,
             "#fdca26"
            ],
            [
             1,
             "#f0f921"
            ]
           ],
           "sequentialminus": [
            [
             0,
             "#0d0887"
            ],
            [
             0.1111111111111111,
             "#46039f"
            ],
            [
             0.2222222222222222,
             "#7201a8"
            ],
            [
             0.3333333333333333,
             "#9c179e"
            ],
            [
             0.4444444444444444,
             "#bd3786"
            ],
            [
             0.5555555555555556,
             "#d8576b"
            ],
            [
             0.6666666666666666,
             "#ed7953"
            ],
            [
             0.7777777777777778,
             "#fb9f3a"
            ],
            [
             0.8888888888888888,
             "#fdca26"
            ],
            [
             1,
             "#f0f921"
            ]
           ]
          },
          "colorway": [
           "#636efa",
           "#EF553B",
           "#00cc96",
           "#ab63fa",
           "#FFA15A",
           "#19d3f3",
           "#FF6692",
           "#B6E880",
           "#FF97FF",
           "#FECB52"
          ],
          "font": {
           "color": "#2a3f5f"
          },
          "geo": {
           "bgcolor": "white",
           "lakecolor": "white",
           "landcolor": "#E5ECF6",
           "showlakes": true,
           "showland": true,
           "subunitcolor": "white"
          },
          "hoverlabel": {
           "align": "left"
          },
          "hovermode": "closest",
          "mapbox": {
           "style": "light"
          },
          "paper_bgcolor": "white",
          "plot_bgcolor": "#E5ECF6",
          "polar": {
           "angularaxis": {
            "gridcolor": "white",
            "linecolor": "white",
            "ticks": ""
           },
           "bgcolor": "#E5ECF6",
           "radialaxis": {
            "gridcolor": "white",
            "linecolor": "white",
            "ticks": ""
           }
          },
          "scene": {
           "xaxis": {
            "backgroundcolor": "#E5ECF6",
            "gridcolor": "white",
            "gridwidth": 2,
            "linecolor": "white",
            "showbackground": true,
            "ticks": "",
            "zerolinecolor": "white"
           },
           "yaxis": {
            "backgroundcolor": "#E5ECF6",
            "gridcolor": "white",
            "gridwidth": 2,
            "linecolor": "white",
            "showbackground": true,
            "ticks": "",
            "zerolinecolor": "white"
           },
           "zaxis": {
            "backgroundcolor": "#E5ECF6",
            "gridcolor": "white",
            "gridwidth": 2,
            "linecolor": "white",
            "showbackground": true,
            "ticks": "",
            "zerolinecolor": "white"
           }
          },
          "shapedefaults": {
           "line": {
            "color": "#2a3f5f"
           }
          },
          "ternary": {
           "aaxis": {
            "gridcolor": "white",
            "linecolor": "white",
            "ticks": ""
           },
           "baxis": {
            "gridcolor": "white",
            "linecolor": "white",
            "ticks": ""
           },
           "bgcolor": "#E5ECF6",
           "caxis": {
            "gridcolor": "white",
            "linecolor": "white",
            "ticks": ""
           }
          },
          "title": {
           "x": 0.05
          },
          "xaxis": {
           "automargin": true,
           "gridcolor": "white",
           "linecolor": "white",
           "ticks": "",
           "title": {
            "standoff": 15
           },
           "zerolinecolor": "white",
           "zerolinewidth": 2
          },
          "yaxis": {
           "automargin": true,
           "gridcolor": "white",
           "linecolor": "white",
           "ticks": "",
           "title": {
            "standoff": 15
           },
           "zerolinecolor": "white",
           "zerolinewidth": 2
          }
         }
        },
        "width": 900,
        "xaxis": {
         "anchor": "y",
         "autorange": true,
         "domain": [
          0,
          1
         ],
         "range": [
          0.483739837398374,
          12.516260162601625
         ],
         "ticktext": [
          "Jan",
          "Feb",
          "Mar",
          "Apr",
          "May",
          "Jun",
          "Jul",
          "Aug",
          "Sep",
          "Oct",
          "Nov",
          "Dec"
         ],
         "tickvals": [
          1,
          2,
          3,
          4,
          5,
          6,
          7,
          8,
          9,
          10,
          11,
          12
         ],
         "title": {
          "text": ""
         },
         "type": "linear"
        },
        "yaxis": {
         "anchor": "x",
         "autorange": true,
         "domain": [
          0,
          1
         ],
         "range": [
          0,
          15528.306842105263
         ],
         "title": {
          "text": ""
         },
         "type": "linear"
        }
       }
      },
      "image/png": "[encoded data removed]",
      "text/html": [
       "<div>                            <div id=\"958b40cf-6cfb-470d-a935-4166e357bdd2\" class=\"plotly-graph-div\" style=\"height:600px; width:900px;\"></div>            <script type=\"text/javascript\">                require([\"plotly\"], function(Plotly) {                    window.PLOTLYENV=window.PLOTLYENV || {};                                    if (document.getElementById(\"958b40cf-6cfb-470d-a935-4166e357bdd2\")) {                    Plotly.newPlot(                        \"958b40cf-6cfb-470d-a935-4166e357bdd2\",                        [{\"alignmentgroup\":\"True\",\"hovertemplate\":\"<b>%{customdata[0]} 2023</b><br>Profit: <b>$%{customdata[1]:,.0f}</b><br>%{customdata[2]:.0%} difference from Target ($%{customdata[3]:,.0f})<extra></extra>\",\"legendgroup\":\"Above Target\",\"marker\":{\"color\":\"#91B3D7\",\"pattern\":{\"shape\":\"\"}},\"name\":\"Above Target\",\"offsetgroup\":\"Above Target\",\"orientation\":\"v\",\"showlegend\":true,\"textposition\":\"auto\",\"x\":[1,2,5,10,12],\"xaxis\":\"x\",\"y\":[7140.4391000000005,1613.8719999999994,6342.582799999999,9275.2755,8483.3468],\"yaxis\":\"y\",\"type\":\"bar\",\"hoverlabel\":{\"bgcolor\":\"white\"},\"customdata\":[[\"Jan\",7140.4391000000005,0.05904340085556197,6742.347947432092,\"Above Target\"],[\"Feb\",1613.8719999999994,0.12759763790213563,1431.2481205641436,\"Above Target\"],[\"May\",6342.582799999999,0.10387127047805923,5745.763088166235,\"Above Target\"],[\"Oct\",9275.2755,0.12312115539783783,8258.481692221765,\"Above Target\"],[\"Dec\",8483.3468,0.09793597157762471,7726.63162480256,\"Above Target\"]]},{\"alignmentgroup\":\"True\",\"hovertemplate\":\"<b>%{customdata[0]} 2023</b><br>Profit: <b>$%{customdata[1]:,.0f}</b><br>%{customdata[2]:.0%} difference from Target ($%{customdata[3]:,.0f})<extra></extra>\",\"legendgroup\":\"On Target\",\"marker\":{\"color\":\"#BAB0AC\",\"pattern\":{\"shape\":\"\"}},\"name\":\"On Target\",\"offsetgroup\":\"On Target\",\"orientation\":\"v\",\"showlegend\":true,\"textposition\":\"auto\",\"x\":[3,6,8,9],\"xaxis\":\"x\",\"y\":[14751.8915,8223.3357,9040.9557,10991.5556],\"yaxis\":\"y\",\"type\":\"bar\",\"hoverlabel\":{\"bgcolor\":\"white\"},\"customdata\":[[\"Mar\",14751.8915,0.006698479901463374,14653.733758934382,\"On Target\"],[\"Jun\",8223.3357,-0.012880393710832851,8330.63759204784,\"On Target\"],[\"Aug\",9040.9557,0.02688550068649195,8804.249055961891,\"On Target\"],[\"Sep\",10991.5556,0.006934011453682011,10915.864867978591,\"On Target\"]]},{\"alignmentgroup\":\"True\",\"hovertemplate\":\"<b>%{customdata[0]} 2023</b><br>Profit: <b>$%{customdata[1]:,.0f}</b><br>%{customdata[2]:.0%} difference from Target ($%{customdata[3]:,.0f})<extra></extra>\",\"legendgroup\":\"Below Target\",\"marker\":{\"color\":\"#E15759\",\"pattern\":{\"shape\":\"\"}},\"name\":\"Below Target\",\"offsetgroup\":\"Below Target\",\"orientation\":\"v\",\"showlegend\":true,\"textposition\":\"auto\",\"x\":[4,7,11],\"xaxis\":\"x\",\"y\":[933.2899999999996,6952.6212,9690.1037],\"yaxis\":\"y\",\"type\":\"bar\",\"hoverlabel\":{\"bgcolor\":\"white\"},\"customdata\":[[\"Apr\",933.2899999999996,-0.38560961438405866,1519.0504634351555,\"Below Target\"],[\"Jul\",6952.6212,-0.0872539207411406,7617.256713548918,\"Below Target\"],[\"Nov\",9690.1037,-0.06736260446479675,10390.00124420192,\"Below Target\"]]}],                        {\"template\":{\"data\":{\"histogram2dcontour\":[{\"type\":\"histogram2dcontour\",\"colorbar\":{\"outlinewidth\":0,\"ticks\":\"\"},\"colorscale\":[[0.0,\"#0d0887\"],[0.1111111111111111,\"#46039f\"],[0.2222222222222222,\"#7201a8\"],[0.3333333333333333,\"#9c179e\"],[0.4444444444444444,\"#bd3786\"],[0.5555555555555556,\"#d8576b\"],[0.6666666666666666,\"#ed7953\"],[0.7777777777777778,\"#fb9f3a\"],[0.8888888888888888,\"#fdca26\"],[1.0,\"#f0f921\"]]}],\"choropleth\":[{\"type\":\"choropleth\",\"colorbar\":{\"outlinewidth\":0,\"ticks\":\"\"}}],\"histogram2d\":[{\"type\":\"histogram2d\",\"colorbar\":{\"outlinewidth\":0,\"ticks\":\"\"},\"colorscale\":[[0.0,\"#0d0887\"],[0.1111111111111111,\"#46039f\"],[0.2222222222222222,\"#7201a8\"],[0.3333333333333333,\"#9c179e\"],[0.4444444444444444,\"#bd3786\"],[0.5555555555555556,\"#d8576b\"],[0.6666666666666666,\"#ed7953\"],[0.7777777777777778,\"#fb9f3a\"],[0.8888888888888888,\"#fdca26\"],[1.0,\"#f0f921\"]]}],\"heatmap\":[{\"type\":\"heatmap\",\"colorbar\":{\"outlinewidth\":0,\"ticks\":\"\"},\"colorscale\":[[0.0,\"#0d0887\"],[0.1111111111111111,\"#46039f\"],[0.2222222222222222,\"#7201a8\"],[0.3333333333333333,\"#9c179e\"],[0.4444444444444444,\"#bd3786\"],[0.5555555555555556,\"#d8576b\"],[0.6666666666666666,\"#ed7953\"],[0.7777777777777778,\"#fb9f3a\"],[0.8888888888888888,\"#fdca26\"],[1.0,\"#f0f921\"]]}],\"heatmapgl\":[{\"type\":\"heatmapgl\",\"colorbar\":{\"outlinewidth\":0,\"ticks\":\"\"},\"colorscale\":[[0.0,\"#0d0887\"],[0.1111111111111111,\"#46039f\"],[0.2222222222222222,\"#7201a8\"],[0.3333333333333333,\"#9c179e\"],[0.4444444444444444,\"#bd3786\"],[0.5555555555555556,\"#d8576b\"],[0.6666666666666666,\"#ed7953\"],[0.7777777777777778,\"#fb9f3a\"],[0.8888888888888888,\"#fdca26\"],[1.0,\"#f0f921\"]]}],\"contourcarpet\":[{\"type\":\"contourcarpet\",\"colorbar\":{\"outlinewidth\":0,\"ticks\":\"\"}}],\"contour\":[{\"type\":\"contour\",\"colorbar\":{\"outlinewidth\":0,\"ticks\":\"\"},\"colorscale\":[[0.0,\"#0d0887\"],[0.1111111111111111,\"#46039f\"],[0.2222222222222222,\"#7201a8\"],[0.3333333333333333,\"#9c179e\"],[0.4444444444444444,\"#bd3786\"],[0.5555555555555556,\"#d8576b\"],[0.6666666666666666,\"#ed7953\"],[0.7777777777777778,\"#fb9f3a\"],[0.8888888888888888,\"#fdca26\"],[1.0,\"#f0f921\"]]}],\"surface\":[{\"type\":\"surface\",\"colorbar\":{\"outlinewidth\":0,\"ticks\":\"\"},\"colorscale\":[[0.0,\"#0d0887\"],[0.1111111111111111,\"#46039f\"],[0.2222222222222222,\"#7201a8\"],[0.3333333333333333,\"#9c179e\"],[0.4444444444444444,\"#bd3786\"],[0.5555555555555556,\"#d8576b\"],[0.6666666666666666,\"#ed7953\"],[0.7777777777777778,\"#fb9f3a\"],[0.8888888888888888,\"#fdca26\"],[1.0,\"#f0f921\"]]}],\"mesh3d\":[{\"type\":\"mesh3d\",\"colorbar\":{\"outlinewidth\":0,\"ticks\":\"\"}}],\"scatter\":[{\"fillpattern\":{\"fillmode\":\"overlay\",\"size\":10,\"solidity\":0.2},\"type\":\"scatter\"}],\"parcoords\":[{\"type\":\"parcoords\",\"line\":{\"colorbar\":{\"outlinewidth\":0,\"ticks\":\"\"}}}],\"scatterpolargl\":[{\"type\":\"scatterpolargl\",\"marker\":{\"colorbar\":{\"outlinewidth\":0,\"ticks\":\"\"}}}],\"bar\":[{\"error_x\":{\"color\":\"#2a3f5f\"},\"error_y\":{\"color\":\"#2a3f5f\"},\"marker\":{\"line\":{\"color\":\"#E5ECF6\",\"width\":0.5},\"pattern\":{\"fillmode\":\"overlay\",\"size\":10,\"solidity\":0.2}},\"type\":\"bar\"}],\"scattergeo\":[{\"type\":\"scattergeo\",\"marker\":{\"colorbar\":{\"outlinewidth\":0,\"ticks\":\"\"}}}],\"scatterpolar\":[{\"type\":\"scatterpolar\",\"marker\":{\"colorbar\":{\"outlinewidth\":0,\"ticks\":\"\"}}}],\"histogram\":[{\"marker\":{\"pattern\":{\"fillmode\":\"overlay\",\"size\":10,\"solidity\":0.2}},\"type\":\"histogram\"}],\"scattergl\":[{\"type\":\"scattergl\",\"marker\":{\"colorbar\":{\"outlinewidth\":0,\"ticks\":\"\"}}}],\"scatter3d\":[{\"type\":\"scatter3d\",\"line\":{\"colorbar\":{\"outlinewidth\":0,\"ticks\":\"\"}},\"marker\":{\"colorbar\":{\"outlinewidth\":0,\"ticks\":\"\"}}}],\"scattermapbox\":[{\"type\":\"scattermapbox\",\"marker\":{\"colorbar\":{\"outlinewidth\":0,\"ticks\":\"\"}}}],\"scatterternary\":[{\"type\":\"scatterternary\",\"marker\":{\"colorbar\":{\"outlinewidth\":0,\"ticks\":\"\"}}}],\"scattercarpet\":[{\"type\":\"scattercarpet\",\"marker\":{\"colorbar\":{\"outlinewidth\":0,\"ticks\":\"\"}}}],\"carpet\":[{\"aaxis\":{\"endlinecolor\":\"#2a3f5f\",\"gridcolor\":\"white\",\"linecolor\":\"white\",\"minorgridcolor\":\"white\",\"startlinecolor\":\"#2a3f5f\"},\"baxis\":{\"endlinecolor\":\"#2a3f5f\",\"gridcolor\":\"white\",\"linecolor\":\"white\",\"minorgridcolor\":\"white\",\"startlinecolor\":\"#2a3f5f\"},\"type\":\"carpet\"}],\"table\":[{\"cells\":{\"fill\":{\"color\":\"#EBF0F8\"},\"line\":{\"color\":\"white\"}},\"header\":{\"fill\":{\"color\":\"#C8D4E3\"},\"line\":{\"color\":\"white\"}},\"type\":\"table\"}],\"barpolar\":[{\"marker\":{\"line\":{\"color\":\"#E5ECF6\",\"width\":0.5},\"pattern\":{\"fillmode\":\"overlay\",\"size\":10,\"solidity\":0.2}},\"type\":\"barpolar\"}],\"pie\":[{\"automargin\":true,\"type\":\"pie\"}]},\"layout\":{\"autotypenumbers\":\"strict\",\"colorway\":[\"#636efa\",\"#EF553B\",\"#00cc96\",\"#ab63fa\",\"#FFA15A\",\"#19d3f3\",\"#FF6692\",\"#B6E880\",\"#FF97FF\",\"#FECB52\"],\"font\":{\"color\":\"#2a3f5f\"},\"hovermode\":\"closest\",\"hoverlabel\":{\"align\":\"left\"},\"paper_bgcolor\":\"white\",\"plot_bgcolor\":\"#E5ECF6\",\"polar\":{\"bgcolor\":\"#E5ECF6\",\"angularaxis\":{\"gridcolor\":\"white\",\"linecolor\":\"white\",\"ticks\":\"\"},\"radialaxis\":{\"gridcolor\":\"white\",\"linecolor\":\"white\",\"ticks\":\"\"}},\"ternary\":{\"bgcolor\":\"#E5ECF6\",\"aaxis\":{\"gridcolor\":\"white\",\"linecolor\":\"white\",\"ticks\":\"\"},\"baxis\":{\"gridcolor\":\"white\",\"linecolor\":\"white\",\"ticks\":\"\"},\"caxis\":{\"gridcolor\":\"white\",\"linecolor\":\"white\",\"ticks\":\"\"}},\"coloraxis\":{\"colorbar\":{\"outlinewidth\":0,\"ticks\":\"\"}},\"colorscale\":{\"sequential\":[[0.0,\"#0d0887\"],[0.1111111111111111,\"#46039f\"],[0.2222222222222222,\"#7201a8\"],[0.3333333333333333,\"#9c179e\"],[0.4444444444444444,\"#bd3786\"],[0.5555555555555556,\"#d8576b\"],[0.6666666666666666,\"#ed7953\"],[0.7777777777777778,\"#fb9f3a\"],[0.8888888888888888,\"#fdca26\"],[1.0,\"#f0f921\"]],\"sequentialminus\":[[0.0,\"#0d0887\"],[0.1111111111111111,\"#46039f\"],[0.2222222222222222,\"#7201a8\"],[0.3333333333333333,\"#9c179e\"],[0.4444444444444444,\"#bd3786\"],[0.5555555555555556,\"#d8576b\"],[0.6666666666666666,\"#ed7953\"],[0.7777777777777778,\"#fb9f3a\"],[0.8888888888888888,\"#fdca26\"],[1.0,\"#f0f921\"]],\"diverging\":[[0,\"#8e0152\"],[0.1,\"#c51b7d\"],[0.2,\"#de77ae\"],[0.3,\"#f1b6da\"],[0.4,\"#fde0ef\"],[0.5,\"#f7f7f7\"],[0.6,\"#e6f5d0\"],[0.7,\"#b8e186\"],[0.8,\"#7fbc41\"],[0.9,\"#4d9221\"],[1,\"#276419\"]]},\"xaxis\":{\"gridcolor\":\"white\",\"linecolor\":\"white\",\"ticks\":\"\",\"title\":{\"standoff\":15},\"zerolinecolor\":\"white\",\"automargin\":true,\"zerolinewidth\":2},\"yaxis\":{\"gridcolor\":\"white\",\"linecolor\":\"white\",\"ticks\":\"\",\"title\":{\"standoff\":15},\"zerolinecolor\":\"white\",\"automargin\":true,\"zerolinewidth\":2},\"scene\":{\"xaxis\":{\"backgroundcolor\":\"#E5ECF6\",\"gridcolor\":\"white\",\"linecolor\":\"white\",\"showbackground\":true,\"ticks\":\"\",\"zerolinecolor\":\"white\",\"gridwidth\":2},\"yaxis\":{\"backgroundcolor\":\"#E5ECF6\",\"gridcolor\":\"white\",\"linecolor\":\"white\",\"showbackground\":true,\"ticks\":\"\",\"zerolinecolor\":\"white\",\"gridwidth\":2},\"zaxis\":{\"backgroundcolor\":\"#E5ECF6\",\"gridcolor\":\"white\",\"linecolor\":\"white\",\"showbackground\":true,\"ticks\":\"\",\"zerolinecolor\":\"white\",\"gridwidth\":2}},\"shapedefaults\":{\"line\":{\"color\":\"#2a3f5f\"}},\"annotationdefaults\":{\"arrowcolor\":\"#2a3f5f\",\"arrowhead\":0,\"arrowwidth\":1},\"geo\":{\"bgcolor\":\"white\",\"landcolor\":\"#E5ECF6\",\"subunitcolor\":\"white\",\"showland\":true,\"showlakes\":true,\"lakecolor\":\"white\"},\"title\":{\"x\":0.05},\"mapbox\":{\"style\":\"light\"}}},\"xaxis\":{\"anchor\":\"y\",\"domain\":[0.0,1.0],\"title\":{\"text\":\"\"},\"tickvals\":[1,2,3,4,5,6,7,8,9,10,11,12],\"ticktext\":[\"Jan\",\"Feb\",\"Mar\",\"Apr\",\"May\",\"Jun\",\"Jul\",\"Aug\",\"Sep\",\"Oct\",\"Nov\",\"Dec\"]},\"yaxis\":{\"anchor\":\"x\",\"domain\":[0.0,1.0],\"title\":{\"text\":\"\"}},\"legend\":{\"title\":{\"text\":\"\"},\"tracegroupgap\":0,\"orientation\":\"h\",\"yanchor\":\"bottom\",\"xanchor\":\"left\",\"x\":0,\"y\":1},\"margin\":{\"t\":60},\"barmode\":\"relative\",\"shapes\":[{\"line\":{\"color\":\"gray\"},\"type\":\"line\",\"x0\":0.6,\"x1\":1.4,\"y0\":6742.347947432092,\"y1\":6742.347947432092},{\"fillcolor\":\"gray\",\"layer\":\"below\",\"line\":{\"color\":\"gray\"},\"opacity\":0.3,\"type\":\"rect\",\"x0\":0.5,\"x1\":1.5,\"y0\":6405.230550060487,\"y1\":7079.465344803697},{\"line\":{\"color\":\"gray\"},\"type\":\"line\",\"x0\":1.6,\"x1\":2.4,\"y0\":1431.2481205641436,\"y1\":1431.2481205641436},{\"fillcolor\":\"gray\",\"layer\":\"below\",\"line\":{\"color\":\"gray\"},\"opacity\":0.3,\"type\":\"rect\",\"x0\":1.5,\"x1\":2.5,\"y0\":1359.6857145359363,\"y1\":1502.810526592351},{\"line\":{\"color\":\"gray\"},\"type\":\"line\",\"x0\":2.6,\"x1\":3.4,\"y0\":14653.733758934382,\"y1\":14653.733758934382},{\"fillcolor\":\"gray\",\"layer\":\"below\",\"line\":{\"color\":\"gray\"},\"opacity\":0.3,\"type\":\"rect\",\"x0\":2.5,\"x1\":3.5,\"y0\":13921.047070987663,\"y1\":15386.420446881102},{\"line\":{\"color\":\"gray\"},\"type\":\"line\",\"x0\":3.6,\"x1\":4.4,\"y0\":1519.0504634351555,\"y1\":1519.0504634351555},{\"fillcolor\":\"gray\",\"layer\":\"below\",\"line\":{\"color\":\"gray\"},\"opacity\":0.3,\"type\":\"rect\",\"x0\":3.5,\"x1\":4.5,\"y0\":1443.0979402633977,\"y1\":1595.0029866069133},{\"line\":{\"color\":\"gray\"},\"type\":\"line\",\"x0\":4.6,\"x1\":5.4,\"y0\":5745.763088166235,\"y1\":5745.763088166235},{\"fillcolor\":\"gray\",\"layer\":\"below\",\"line\":{\"color\":\"gray\"},\"opacity\":0.3,\"type\":\"rect\",\"x0\":4.5,\"x1\":5.5,\"y0\":5458.474933757923,\"y1\":6033.051242574547},{\"line\":{\"color\":\"gray\"},\"type\":\"line\",\"x0\":5.6,\"x1\":6.4,\"y0\":8330.63759204784,\"y1\":8330.63759204784},{\"fillcolor\":\"gray\",\"layer\":\"below\",\"line\":{\"color\":\"gray\"},\"opacity\":0.3,\"type\":\"rect\",\"x0\":5.5,\"x1\":6.5,\"y0\":7914.105712445448,\"y1\":8747.169471650233},{\"line\":{\"color\":\"gray\"},\"type\":\"line\",\"x0\":6.6,\"x1\":7.4,\"y0\":7617.256713548918,\"y1\":7617.256713548918},{\"fillcolor\":\"gray\",\"layer\":\"below\",\"line\":{\"color\":\"gray\"},\"opacity\":0.3,\"type\":\"rect\",\"x0\":6.5,\"x1\":7.5,\"y0\":7236.393877871472,\"y1\":7998.119549226364},{\"line\":{\"color\":\"gray\"},\"type\":\"line\",\"x0\":7.6,\"x1\":8.4,\"y0\":8804.249055961891,\"y1\":8804.249055961891},{\"fillcolor\":\"gray\",\"layer\":\"below\",\"line\":{\"color\":\"gray\"},\"opacity\":0.3,\"type\":\"rect\",\"x0\":7.5,\"x1\":8.5,\"y0\":8364.036603163797,\"y1\":9244.461508759985},{\"line\":{\"color\":\"gray\"},\"type\":\"line\",\"x0\":8.6,\"x1\":9.4,\"y0\":10915.864867978591,\"y1\":10915.864867978591},{\"fillcolor\":\"gray\",\"layer\":\"below\",\"line\":{\"color\":\"gray\"},\"opacity\":0.3,\"type\":\"rect\",\"x0\":8.5,\"x1\":9.5,\"y0\":10370.071624579661,\"y1\":11461.658111377521},{\"line\":{\"color\":\"gray\"},\"type\":\"line\",\"x0\":9.6,\"x1\":10.4,\"y0\":8258.481692221765,\"y1\":8258.481692221765},{\"fillcolor\":\"gray\",\"layer\":\"below\",\"line\":{\"color\":\"gray\"},\"opacity\":0.3,\"type\":\"rect\",\"x0\":9.5,\"x1\":10.5,\"y0\":7845.557607610676,\"y1\":8671.405776832853},{\"line\":{\"color\":\"gray\"},\"type\":\"line\",\"x0\":10.6,\"x1\":11.4,\"y0\":10390.00124420192,\"y1\":10390.00124420192},{\"fillcolor\":\"gray\",\"layer\":\"below\",\"line\":{\"color\":\"gray\"},\"opacity\":0.3,\"type\":\"rect\",\"x0\":10.5,\"x1\":11.5,\"y0\":9870.501181991824,\"y1\":10909.501306412016},{\"line\":{\"color\":\"gray\"},\"type\":\"line\",\"x0\":11.6,\"x1\":12.4,\"y0\":7726.63162480256,\"y1\":7726.63162480256},{\"fillcolor\":\"gray\",\"layer\":\"below\",\"line\":{\"color\":\"gray\"},\"opacity\":0.3,\"type\":\"rect\",\"x0\":11.5,\"x1\":12.5,\"y0\":7340.300043562432,\"y1\":8112.9632060426875}],\"width\":900,\"height\":600,\"annotations\":[{\"font\":{\"color\":\"gray\",\"size\":10},\"opacity\":0.8,\"showarrow\":false,\"text\":\"Workout Wednesday Week 21 | Challenge by L-ZY @LZY_CHN\",\"x\":1,\"xanchor\":\"right\",\"xref\":\"paper\",\"y\":0,\"yanchor\":\"top\",\"yref\":\"paper\",\"yshift\":-20}]},                        {\"responsive\": true}                    ).then(function(){\n",
       "                            \n",
       "var gd = document.getElementById('958b40cf-6cfb-470d-a935-4166e357bdd2');\n",
       "var x = new MutationObserver(function (mutations, observer) {{\n",
       "        var display = window.getComputedStyle(gd).display;\n",
       "        if (!display || display === 'none') {{\n",
       "            console.log([gd, 'removed!']);\n",
       "            Plotly.purge(gd);\n",
       "            observer.disconnect();\n",
       "        }}\n",
       "}});\n",
       "\n",
       "// Listen for the removal of the full notebook cells\n",
       "var notebookContainer = gd.closest('#notebook-container');\n",
       "if (notebookContainer) {{\n",
       "    x.observe(notebookContainer, {childList: true});\n",
       "}}\n",
       "\n",
       "// Listen for the clearing of the current output cell\n",
       "var outputEl = gd.closest('.output');\n",
       "if (outputEl) {{\n",
       "    x.observe(outputEl, {childList: true});\n",
       "}}\n",
       "\n",
       "                        })                };                });            </script>        </div>"
      ]
     },
     "metadata": {},
     "output_type": "display_data"
    }
   ],
   "source": [
    "import plotly.express as px\n",
    "import plotly.graph_objects as go\n",
    "\n",
    "tolerence = 0.05\n",
    "lower = data_grouped['Target Profit'] * (1 - tolerence)\n",
    "upper = data_grouped['Target Profit'] * (1 + tolerence)\n",
    "labels = ['Above Target' if p > u else ('Below Target' if p < l else 'On Target')\n",
    "          for p, l, u in zip(data_grouped['Profit'], lower, upper)]\n",
    "\n",
    "data_px = data_grouped.reset_index()\n",
    "data_px['labels'] = labels\n",
    "data_px['month'] = ['Jan', 'Feb', 'Mar', 'Apr', 'May', 'Jun',\n",
    "                    'Jul', 'Aug', 'Sep', 'Oct', 'Nov', 'Dec']\n",
    "data_px['profit diff'] = (data_px['Profit'] - data_px['Target Profit']) / data_px['Target Profit']\n",
    "color_maps = {'Above Target': '#91B3D7',\n",
    "              'On Target': '#BAB0AC',\n",
    "              'Below Target': '#E15759'\n",
    "             }\n",
    "\n",
    "fig = px.bar(data_px, x='Order Date', y='Profit', color='labels',\n",
    "             color_discrete_map=color_maps,\n",
    "            ) # This includes three traces\n",
    "\n",
    "# We need to update the customdata for each traces of different colors\n",
    "for l, c in color_maps.items():\n",
    "    fig.update_traces(\n",
    "        selector=dict(marker_color=c),\n",
    "        customdata=data_px.loc[:,['month', 'Profit', 'profit diff', 'Target Profit', 'labels']].query('labels==@l'),\n",
    "        hovertemplate=('<b>%{customdata[0]} 2023</b><br>'\n",
    "                       'Profit: <b>$%{customdata[1]:,.0f}</b><br>'\n",
    "                       '%{customdata[2]:.0%} difference from Target ($%{customdata[3]:,.0f})<extra></extra>'),\n",
    "        hoverlabel=dict(bgcolor='white'),\n",
    "    )\n",
    "\n",
    "for m, t, l, u in zip(data_px['Order Date'], data_px['Target Profit'], lower, upper):\n",
    "    fig.add_shape(\n",
    "        type='line',\n",
    "        x0=m-0.4, y0=t, x1=m+0.4, y1=t,\n",
    "        line_color='gray'\n",
    "    )\n",
    "    fig.add_shape(\n",
    "        type='rect',\n",
    "        x0=m-0.5, y0=l, x1=m+0.5, y1=u,\n",
    "        line_color='gray',\n",
    "        fillcolor='gray',\n",
    "        opacity=0.3,\n",
    "        layer='below',\n",
    "    )\n",
    "\n",
    "fig.update_layout(\n",
    "    # paper_bgcolor='yellow',\n",
    "    width=900,\n",
    "    height=600,\n",
    "    legend=dict(orientation='h',\n",
    "                yanchor='bottom',\n",
    "                xanchor='left',\n",
    "                x=0, y=1,\n",
    "                title_text='',\n",
    "               ),\n",
    "    # margin=dict(b=5, t=5, l=5, r=10),\n",
    ")\n",
    "fig.update_xaxes(\n",
    "    tickvals=data_px['Order Date'],\n",
    "    ticktext=data_px['month'],\n",
    "    title_text='',\n",
    ")\n",
    "fig.update_yaxes(\n",
    "    title_text='',\n",
    ")\n",
    "\n",
    "fig.add_annotation(\n",
    "    text='Workout Wednesday Week 21 | Challenge by L-ZY @LZY_CHN',\n",
    "    x=1, y=0,\n",
    "    yshift=-20,\n",
    "    xref='paper', yref='paper',\n",
    "    xanchor='right', yanchor='top',\n",
    "    showarrow=False,\n",
    "    font=dict(color='gray', size=10),\n",
    "    opacity=0.8,\n",
    ")\n",
    "\n",
    "fig.show()"
   ]
  },
  {
   "cell_type": "code",
   "execution_count": null,
   "id": "d5b6b0f7-52cc-4f2f-b204-db826f047ec5",
   "metadata": {},
   "outputs": [],
   "source": []
  }
 ],
 "metadata": {
  "kernelspec": {
   "display_name": "Python 3 (ipykernel)",
   "language": "python",
   "name": "python3"
  },
  "language_info": {
   "codemirror_mode": {
    "name": "ipython",
    "version": 3
   },
   "file_extension": ".py",
   "mimetype": "text/x-python",
   "name": "python",
   "nbconvert_exporter": "python",
   "pygments_lexer": "ipython3",
   "version": "3.10.11"
  }
 },
 "nbformat": 4,
 "nbformat_minor": 5
}
