


import pandas as pd
import numpy as np


file_path = '../data/Superstore with Target Profit WOW2023 W21.xlsx'


data = pd.read_excel(file_path)


data.head(3)


data_grouped = data[data['Order Date'].dt.year==2023].groupby(data['Order Date'].dt.month).sum(numeric_only=True)
data_grouped


import matplotlib.pyplot as plt
import matplotlib.collections as mcollections
import matplotlib.ticker as mticker

tolerence = 0.05
lower = data_grouped['Target Profit'] * (1 - tolerence)
upper = data_grouped['Target Profit'] * (1 + tolerence)
colors = ['#91B3D7' if p > u else ('#E15759' if p < l else '#BAB0AC')
          for p, l, u in zip(data_grouped['Profit'], lower, upper)]
labels = ['Above Target' if c  == '#91B3D7' else ('Below Target' if c == '#E15759' else 'On Target')
          for c in colors]
# Add '_' to the duplicate label to hide it
labels_unique = []
for label in labels:
    if label in labels_unique:
        labels_unique.append('_' + label)
    else:
        labels_unique.append(label)

fig, ax = plt.subplots(figsize=(10, 5))

ax.bar(data_grouped.index, data_grouped['Profit'], color=colors, label=labels_unique)
ax.legend(ncols=3, frameon=False, 
         loc='lower left', bbox_to_anchor=(0, 1))

# Add target profit lines
lines = [[(x-0.5,y),(x+0.5,y)] for x, y in zip(data_grouped.index, data_grouped['Target Profit'])]
line_artist = mcollections.LineCollection(lines, colors='gray', alpha=0.6)
ax.add_collection(line_artist)

# Add tolerence rectangle
ax.bar(data_grouped.index, upper-lower, bottom=lower, width=1, color='gray', alpha=0.3, zorder=0)

# Style the figure
ax.xaxis.set_ticks(data_grouped.index, labels=['Jan', 'Feb', 'Mar', 'Apr', 'May', 'Jun',
                                               'Jul', 'Aug', 'Sep', 'Oct', 'Nov', 'Dec'])
ax.yaxis.set_major_formatter(mticker.FuncFormatter(lambda x, pos: f'{x/1000:.0f}K'))

ax.spines[:].set_visible(False)
ax.tick_params(left=False, bottom=False)
ax.yaxis.grid(True, alpha=0.4)
ax.yaxis.set_zorder(0) # To set the zorder of gridlines, we should set the zorder of the corresponding axis.

# Add Title
xy = (-0.05, 1.05)
ax.annotate('#WOW2023 Week 21', xy=xy, xytext=(0, 15), 
            xycoords='axes fraction', textcoords='offset points',
            ha='left', va='bottom', fontsize=14, fontweight='bold')
ax.annotate(f' | 2023 Profit vs Target (with {tolerence:.0%} tolerance)', xy=xy, xytext=(14*12, 15),
            xycoords='axes fraction', textcoords='offset points',
            ha='left', va='bottom', fontsize=14)

ax.annotate('Workout Wednesday Week 21 | Challenge by L-ZY @LZY_CHN', xy=(1, 0), xytext=(0, -26),
            xycoords='axes fraction', textcoords='offset points',
            ha='right', va='top', fontsize=8, alpha=0.6);


import plotly.express as px
import plotly.graph_objects as go

tolerence = 0.05
lower = data_grouped['Target Profit'] * (1 - tolerence)
upper = data_grouped['Target Profit'] * (1 + tolerence)
labels = ['Above Target' if p > u else ('Below Target' if p < l else 'On Target')
          for p, l, u in zip(data_grouped['Profit'], lower, upper)]

data_px = data_grouped.reset_index()
data_px['labels'] = labels
data_px['month'] = ['Jan', 'Feb', 'Mar', 'Apr', 'May', 'Jun',
                    'Jul', 'Aug', 'Sep', 'Oct', 'Nov', 'Dec']
data_px['profit diff'] = (data_px['Profit'] - data_px['Target Profit']) / data_px['Target Profit']
color_maps = {'Above Target': '#91B3D7',
              'On Target': '#BAB0AC',
              'Below Target': '#E15759'
             }

fig = px.bar(data_px, x='Order Date', y='Profit', color='labels',
             color_discrete_map=color_maps,
            ) # This includes three traces

# We need to update the customdata for each traces of different colors
for l, c in color_maps.items():
    fig.update_traces(
        selector=dict(marker_color=c),
        customdata=data_px.loc[:,['month', 'Profit', 'profit diff', 'Target Profit', 'labels']].query('labels==@l'),
        hovertemplate=('<b>%{customdata[0]} 2023</b><br>'
                       'Profit: <b>$%{customdata[1]:,.0f}</b><br>'
                       '%{customdata[2]:.0%} difference from Target ($%{customdata[3]:,.0f})<extra></extra>'),
        hoverlabel=dict(bgcolor='white'),
    )

for m, t, l, u in zip(data_px['Order Date'], data_px['Target Profit'], lower, upper):
    fig.add_shape(
        type='line',
        x0=m-0.4, y0=t, x1=m+0.4, y1=t,
        line_color='gray'
    )
    fig.add_shape(
        type='rect',
        x0=m-0.5, y0=l, x1=m+0.5, y1=u,
        line_color='gray',
        fillcolor='gray',
        opacity=0.3,
        layer='below',
    )

fig.update_layout(
    paper_bgcolor='yellow',
    height=600,
    legend=dict(orientation='h',
                yanchor='bottom',
                xanchor='left',
                x=0, y=1,
                title_text='',
               ),
    # margin=dict(b=5, t=5, l=5, r=10),
)
fig.update_xaxes(
    tickvals=data_px['Order Date'],
    ticktext=data_px['month'],
    title_text='',
)
fig.update_yaxes(
    title_text='',
)

fig.add_annotation(
    text='Workout Wednesday Week 21 | Challenge by L-ZY @LZY_CHN',
    x=1, y=0,
    yshift=-20,
    xref='paper', yref='paper',
    xanchor='right', yanchor='top',
    showarrow=False,
    font=dict(color='gray', size=10),
    opacity=0.8,
)

fig.show()


color_maps.items()



